{
 "cells": [
  {
   "cell_type": "code",
   "execution_count": 5,
   "metadata": {
    "collapsed": false
   },
   "outputs": [],
   "source": [
    "import json\n",
    "\n",
    "data = []\n",
    "with open('2015-01-01-0.json') as f:\n",
    "    for line in f:\n",
    "        data.append(json.loads(line))\n",
    "    "
   ]
  },
  {
   "cell_type": "code",
   "execution_count": 6,
   "metadata": {
    "collapsed": false
   },
   "outputs": [
    {
     "data": {
      "text/plain": [
       "7702"
      ]
     },
     "execution_count": 6,
     "metadata": {},
     "output_type": "execute_result"
    }
   ],
   "source": [
    "len(data)"
   ]
  },
  {
   "cell_type": "code",
   "execution_count": 71,
   "metadata": {
    "collapsed": false,
    "scrolled": true
   },
   "outputs": [
    {
     "data": {
      "text/plain": [
       "u'put the auto-generated API docs in the repository so readthedocs will work. sigh.'"
      ]
     },
     "execution_count": 71,
     "metadata": {},
     "output_type": "execute_result"
    }
   ],
   "source": [
    "data[1]['payload']['commits'][0]['message'].replace('\\n',' ')"
   ]
  },
  {
   "cell_type": "code",
   "execution_count": 75,
   "metadata": {
    "collapsed": false
   },
   "outputs": [
    {
     "name": "stdout",
     "output_type": "stream",
     "text": [
      "[{u'distinct': True, u'sha': u'a69843ef6e07019640823112b0da21e25a85694f', u'message': u'Generalize: remove nanoc-specific items', u'url': u'https://api.github.com/repos/rchurchley/copernicus/commits/a69843ef6e07019640823112b0da21e25a85694f', u'author': {u'email': u'ross@rosschurchley.com', u'name': u'Ross Churchley'}}, {u'distinct': True, u'sha': u'40ad2a87d890d196d2a7be7c5ae115e5942299e6', u'message': u'Generalize: rename reset.scss', u'url': u'https://api.github.com/repos/rchurchley/copernicus/commits/40ad2a87d890d196d2a7be7c5ae115e5942299e6', u'author': {u'email': u'ross@rosschurchley.com', u'name': u'Ross Churchley'}}, {u'distinct': True, u'sha': u'4d2eda35659b203eae035775e616e15e6d196e25', u'message': u'Generalize: remove experimental styles', u'url': u'https://api.github.com/repos/rchurchley/copernicus/commits/4d2eda35659b203eae035775e616e15e6d196e25', u'author': {u'email': u'ross@rosschurchley.com', u'name': u'Ross Churchley'}}, {u'distinct': True, u'sha': u'82b76a86f4652e7df9f66d8d1a3469ba88ca711c', u'message': u'Generalize: remove list thumbnails', u'url': u'https://api.github.com/repos/rchurchley/copernicus/commits/82b76a86f4652e7df9f66d8d1a3469ba88ca711c', u'author': {u'email': u'ross@rosschurchley.com', u'name': u'Ross Churchley'}}, {u'distinct': True, u'sha': u'9520cb0fa5c5a4b023326a1a2b294a06f097ffba', u'message': u'Generalize: make default figure style a class', u'url': u'https://api.github.com/repos/rchurchley/copernicus/commits/9520cb0fa5c5a4b023326a1a2b294a06f097ffba', u'author': {u'email': u'ross@rosschurchley.com', u'name': u'Ross Churchley'}}, {u'distinct': True, u'sha': u'78c41b207c2ff17d6f3045c42d464b022e933f54', u'message': u'Generalize: tidy up', u'url': u'https://api.github.com/repos/rchurchley/copernicus/commits/78c41b207c2ff17d6f3045c42d464b022e933f54', u'author': {u'email': u'ross@rosschurchley.com', u'name': u'Ross Churchley'}}, {u'distinct': True, u'sha': u'9b2bec162526dd2eec69b892a67690c51e5ee8b4', u'message': u'Generalize: change nanoc defs to default colours', u'url': u'https://api.github.com/repos/rchurchley/copernicus/commits/9b2bec162526dd2eec69b892a67690c51e5ee8b4', u'author': {u'email': u'ross@rosschurchley.com', u'name': u'Ross Churchley'}}, {u'distinct': True, u'sha': u'2d61026dd7195c44054d5b9716ec5e86f2b170a8', u'message': u'Generalize: document colour constraints', u'url': u'https://api.github.com/repos/rchurchley/copernicus/commits/2d61026dd7195c44054d5b9716ec5e86f2b170a8', u'author': {u'email': u'ross@rosschurchley.com', u'name': u'Ross Churchley'}}, {u'distinct': True, u'sha': u'b42debf95608dcf289e6fc6f3b3c5ecda804924d', u'message': u'Generalize: remove unused colour styles', u'url': u'https://api.github.com/repos/rchurchley/copernicus/commits/b42debf95608dcf289e6fc6f3b3c5ecda804924d', u'author': {u'email': u'ross@rosschurchley.com', u'name': u'Ross Churchley'}}, {u'distinct': True, u'sha': u'31be9980e714276088438763326624b2ecbf562c', u'message': u'Generalize: rearrange #site-navigation colour defs', u'url': u'https://api.github.com/repos/rchurchley/copernicus/commits/31be9980e714276088438763326624b2ecbf562c', u'author': {u'email': u'ross@rosschurchley.com', u'name': u'Ross Churchley'}}, {u'distinct': True, u'sha': u'ddeb3eb6fb4336c2308b769faf584c94c0c9872e', u'message': u\"Generalize: don't hardcode menu colours\", u'url': u'https://api.github.com/repos/rchurchley/copernicus/commits/ddeb3eb6fb4336c2308b769faf584c94c0c9872e', u'author': {u'email': u'ross@rosschurchley.com', u'name': u'Ross Churchley'}}, {u'distinct': True, u'sha': u'f1c8ce16fd1c8fcb5ad7286a639388d1d3a6a4c9', u'message': u'Tidy', u'url': u'https://api.github.com/repos/rchurchley/copernicus/commits/f1c8ce16fd1c8fcb5ad7286a639388d1d3a6a4c9', u'author': {u'email': u'ross@rosschurchley.com', u'name': u'Ross Churchley'}}, {u'distinct': True, u'sha': u'9a11940e31e0bb8d8287a8c31116a67e0da142b6', u'message': u'Rename files', u'url': u'https://api.github.com/repos/rchurchley/copernicus/commits/9a11940e31e0bb8d8287a8c31116a67e0da142b6', u'author': {u'email': u'ross@rosschurchley.com', u'name': u'Ross Churchley'}}, {u'distinct': True, u'sha': u'd83ab8c50466b9f8ec0a6844156f144084fdf0bf', u'message': u'Move scss files to /source', u'url': u'https://api.github.com/repos/rchurchley/copernicus/commits/d83ab8c50466b9f8ec0a6844156f144084fdf0bf', u'author': {u'email': u'ross@rosschurchley.com', u'name': u'Ross Churchley'}}, {u'distinct': True, u'sha': u'4596b9fd19e0b3f3d45660ee66542d1b4fe9dbde', u'message': u'Generalize: add hooks to add site specific styles', u'url': u'https://api.github.com/repos/rchurchley/copernicus/commits/4596b9fd19e0b3f3d45660ee66542d1b4fe9dbde', u'author': {u'email': u'ross@rosschurchley.com', u'name': u'Ross Churchley'}}, {u'distinct': True, u'sha': u'2116e5956af622c03ab4f520200a02079bdd4d94', u'message': u'Generalize: update README', u'url': u'https://api.github.com/repos/rchurchley/copernicus/commits/2116e5956af622c03ab4f520200a02079bdd4d94', u'author': {u'email': u'ross@rosschurchley.com', u'name': u'Ross Churchley'}}, {u'distinct': True, u'sha': u'fbad248750a9f726da527ce461948bc8bfafac2f', u'message': u'Generalize: document HTML structure assumed by CSS', u'url': u'https://api.github.com/repos/rchurchley/copernicus/commits/fbad248750a9f726da527ce461948bc8bfafac2f', u'author': {u'email': u'ross@rosschurchley.com', u'name': u'Ross Churchley'}}, {u'distinct': True, u'sha': u'98c3e6ab4a3823b08a22aa4b80b187460a203271', u'message': u'Consolidate stylesheets', u'url': u'https://api.github.com/repos/rchurchley/copernicus/commits/98c3e6ab4a3823b08a22aa4b80b187460a203271', u'author': {u'email': u'ross@rosschurchley.com', u'name': u'Ross Churchley'}}, {u'distinct': True, u'sha': u'b12319ea726684152f0834c476ec1065aedf3162', u'message': u'Fully separate customizations from code', u'url': u'https://api.github.com/repos/rchurchley/copernicus/commits/b12319ea726684152f0834c476ec1065aedf3162', u'author': {u'email': u'ross@rosschurchley.com', u'name': u'Ross Churchley'}}, {u'distinct': True, u'sha': u'733a490644efcb99e808ff7ef0fb532c84e71c4b', u'message': u'Documentation style', u'url': u'https://api.github.com/repos/rchurchley/copernicus/commits/733a490644efcb99e808ff7ef0fb532c84e71c4b', u'author': {u'email': u'ross@rosschurchley.com', u'name': u'Ross Churchley'}}]\n"
     ]
    },
    {
     "data": {
      "text/plain": [
       "0"
      ]
     },
     "execution_count": 75,
     "metadata": {},
     "output_type": "execute_result"
    }
   ],
   "source": [
    "ctr=0\n",
    "for d in data:\n",
    "    if d['type']=='PushEvent' and d['payload']['size']!=len(d['payload']['commits']):\n",
    "        print d['payload']['commits']\n",
    "        break\n",
    "        ctr=ctr+1\n",
    "ctr"
   ]
  },
  {
   "cell_type": "code",
   "execution_count": 113,
   "metadata": {
    "collapsed": false
   },
   "outputs": [
    {
     "name": "stdout",
     "output_type": "stream",
     "text": [
      "1\n"
     ]
    }
   ],
   "source": [
    "ctr=0\n",
    "break_i=0\n",
    "for d in data:\n",
    "    if d['type']=='PushEvent':\n",
    "        break_i=break_i+1\n",
    "        if break_i>1:\n",
    "            break\n",
    "        else:\n",
    "            ctr=ctr+1\n",
    "    else:\n",
    "        ctr=ctr+1\n",
    "print ctr"
   ]
  },
  {
   "cell_type": "code",
   "execution_count": 114,
   "metadata": {
    "collapsed": false,
    "scrolled": true
   },
   "outputs": [
    {
     "data": {
      "text/plain": [
       "{u'actor': {u'avatar_url': u'https://avatars.githubusercontent.com/u/5581438?',\n",
       "  u'gravatar_id': u'',\n",
       "  u'id': 5581438,\n",
       "  u'login': u'jmoon018',\n",
       "  u'url': u'https://api.github.com/users/jmoon018'},\n",
       " u'created_at': u'2015-01-01T00:00:00Z',\n",
       " u'id': u'2489368072',\n",
       " u'payload': {u'before': u'd5a69a84e4d95c1c2cbc0a828172f9ce94db35c6',\n",
       "  u'commits': [{u'author': {u'email': u'jmoon018@ucr.edu',\n",
       "     u'name': u'Jamal Moon'},\n",
       "    u'distinct': True,\n",
       "    u'message': u'Can be run from outside of bin. Fixed multi-line issue',\n",
       "    u'sha': u'56688cc528224d40679b7e83c105b27367443a8c',\n",
       "    u'url': u'https://api.github.com/repos/jmoon018/rshell-unit-tester/commits/56688cc528224d40679b7e83c105b27367443a8c'}],\n",
       "  u'distinct_size': 1,\n",
       "  u'head': u'56688cc528224d40679b7e83c105b27367443a8c',\n",
       "  u'push_id': 536740397,\n",
       "  u'ref': u'refs/heads/master',\n",
       "  u'size': 1},\n",
       " u'public': True,\n",
       " u'repo': {u'id': 26392647,\n",
       "  u'name': u'jmoon018/rshell-unit-tester',\n",
       "  u'url': u'https://api.github.com/repos/jmoon018/rshell-unit-tester'},\n",
       " u'type': u'PushEvent'}"
      ]
     },
     "execution_count": 114,
     "metadata": {},
     "output_type": "execute_result"
    }
   ],
   "source": [
    "data[1]"
   ]
  },
  {
   "cell_type": "code",
   "execution_count": null,
   "metadata": {
    "collapsed": true
   },
   "outputs": [],
   "source": []
  }
 ],
 "metadata": {
  "kernelspec": {
   "display_name": "Python 2",
   "language": "python",
   "name": "python2"
  },
  "language_info": {
   "codemirror_mode": {
    "name": "ipython",
    "version": 2
   },
   "file_extension": ".py",
   "mimetype": "text/x-python",
   "name": "python",
   "nbconvert_exporter": "python",
   "pygments_lexer": "ipython2",
   "version": "2.7.10"
  }
 },
 "nbformat": 4,
 "nbformat_minor": 0
}
