{
 "cells": [
  {
   "cell_type": "code",
   "execution_count": 5,
   "metadata": {
    "collapsed": false
   },
   "outputs": [],
   "source": [
    "import json\n",
    "\n",
    "data = []\n",
    "with open('2015-01-01-0.json') as f:\n",
    "    for line in f:\n",
    "        data.append(json.loads(line))\n",
    "    "
   ]
  },
  {
   "cell_type": "code",
   "execution_count": 6,
   "metadata": {
    "collapsed": false
   },
   "outputs": [
    {
     "data": {
      "text/plain": [
       "7702"
      ]
     },
     "execution_count": 6,
     "metadata": {},
     "output_type": "execute_result"
    }
   ],
   "source": [
    "len(data)"
   ]
  },
  {
   "cell_type": "code",
   "execution_count": 71,
   "metadata": {
    "collapsed": false,
    "scrolled": true
   },
   "outputs": [
    {
     "data": {
      "text/plain": [
       "u'put the auto-generated API docs in the repository so readthedocs will work. sigh.'"
      ]
     },
     "execution_count": 71,
     "metadata": {},
     "output_type": "execute_result"
    }
   ],
   "source": [
    "data[1]['payload']['commits'][0]['message'].replace('\\n',' ')"
   ]
  },
  {
   "cell_type": "code",
   "execution_count": 75,
   "metadata": {
    "collapsed": false
   },
   "outputs": [
    {
     "name": "stdout",
     "output_type": "stream",
     "text": [
      "[{u'distinct': True, u'sha': u'a69843ef6e07019640823112b0da21e25a85694f', u'message': u'Generalize: remove nanoc-specific items', u'url': u'https://api.github.com/repos/rchurchley/copernicus/commits/a69843ef6e07019640823112b0da21e25a85694f', u'author': {u'email': u'ross@rosschurchley.com', u'name': u'Ross Churchley'}}, {u'distinct': True, u'sha': u'40ad2a87d890d196d2a7be7c5ae115e5942299e6', u'message': u'Generalize: rename reset.scss', u'url': u'https://api.github.com/repos/rchurchley/copernicus/commits/40ad2a87d890d196d2a7be7c5ae115e5942299e6', u'author': {u'email': u'ross@rosschurchley.com', u'name': u'Ross Churchley'}}, {u'distinct': True, u'sha': u'4d2eda35659b203eae035775e616e15e6d196e25', u'message': u'Generalize: remove experimental styles', u'url': u'https://api.github.com/repos/rchurchley/copernicus/commits/4d2eda35659b203eae035775e616e15e6d196e25', u'author': {u'email': u'ross@rosschurchley.com', u'name': u'Ross Churchley'}}, {u'distinct': True, u'sha': u'82b76a86f4652e7df9f66d8d1a3469ba88ca711c', u'message': u'Generalize: remove list thumbnails', u'url': u'https://api.github.com/repos/rchurchley/copernicus/commits/82b76a86f4652e7df9f66d8d1a3469ba88ca711c', u'author': {u'email': u'ross@rosschurchley.com', u'name': u'Ross Churchley'}}, {u'distinct': True, u'sha': u'9520cb0fa5c5a4b023326a1a2b294a06f097ffba', u'message': u'Generalize: make default figure style a class', u'url': u'https://api.github.com/repos/rchurchley/copernicus/commits/9520cb0fa5c5a4b023326a1a2b294a06f097ffba', u'author': {u'email': u'ross@rosschurchley.com', u'name': u'Ross Churchley'}}, {u'distinct': True, u'sha': u'78c41b207c2ff17d6f3045c42d464b022e933f54', u'message': u'Generalize: tidy up', u'url': u'https://api.github.com/repos/rchurchley/copernicus/commits/78c41b207c2ff17d6f3045c42d464b022e933f54', u'author': {u'email': u'ross@rosschurchley.com', u'name': u'Ross Churchley'}}, {u'distinct': True, u'sha': u'9b2bec162526dd2eec69b892a67690c51e5ee8b4', u'message': u'Generalize: change nanoc defs to default colours', u'url': u'https://api.github.com/repos/rchurchley/copernicus/commits/9b2bec162526dd2eec69b892a67690c51e5ee8b4', u'author': {u'email': u'ross@rosschurchley.com', u'name': u'Ross Churchley'}}, {u'distinct': True, u'sha': u'2d61026dd7195c44054d5b9716ec5e86f2b170a8', u'message': u'Generalize: document colour constraints', u'url': u'https://api.github.com/repos/rchurchley/copernicus/commits/2d61026dd7195c44054d5b9716ec5e86f2b170a8', u'author': {u'email': u'ross@rosschurchley.com', u'name': u'Ross Churchley'}}, {u'distinct': True, u'sha': u'b42debf95608dcf289e6fc6f3b3c5ecda804924d', u'message': u'Generalize: remove unused colour styles', u'url': u'https://api.github.com/repos/rchurchley/copernicus/commits/b42debf95608dcf289e6fc6f3b3c5ecda804924d', u'author': {u'email': u'ross@rosschurchley.com', u'name': u'Ross Churchley'}}, {u'distinct': True, u'sha': u'31be9980e714276088438763326624b2ecbf562c', u'message': u'Generalize: rearrange #site-navigation colour defs', u'url': u'https://api.github.com/repos/rchurchley/copernicus/commits/31be9980e714276088438763326624b2ecbf562c', u'author': {u'email': u'ross@rosschurchley.com', u'name': u'Ross Churchley'}}, {u'distinct': True, u'sha': u'ddeb3eb6fb4336c2308b769faf584c94c0c9872e', u'message': u\"Generalize: don't hardcode menu colours\", u'url': u'https://api.github.com/repos/rchurchley/copernicus/commits/ddeb3eb6fb4336c2308b769faf584c94c0c9872e', u'author': {u'email': u'ross@rosschurchley.com', u'name': u'Ross Churchley'}}, {u'distinct': True, u'sha': u'f1c8ce16fd1c8fcb5ad7286a639388d1d3a6a4c9', u'message': u'Tidy', u'url': u'https://api.github.com/repos/rchurchley/copernicus/commits/f1c8ce16fd1c8fcb5ad7286a639388d1d3a6a4c9', u'author': {u'email': u'ross@rosschurchley.com', u'name': u'Ross Churchley'}}, {u'distinct': True, u'sha': u'9a11940e31e0bb8d8287a8c31116a67e0da142b6', u'message': u'Rename files', u'url': u'https://api.github.com/repos/rchurchley/copernicus/commits/9a11940e31e0bb8d8287a8c31116a67e0da142b6', u'author': {u'email': u'ross@rosschurchley.com', u'name': u'Ross Churchley'}}, {u'distinct': True, u'sha': u'd83ab8c50466b9f8ec0a6844156f144084fdf0bf', u'message': u'Move scss files to /source', u'url': u'https://api.github.com/repos/rchurchley/copernicus/commits/d83ab8c50466b9f8ec0a6844156f144084fdf0bf', u'author': {u'email': u'ross@rosschurchley.com', u'name': u'Ross Churchley'}}, {u'distinct': True, u'sha': u'4596b9fd19e0b3f3d45660ee66542d1b4fe9dbde', u'message': u'Generalize: add hooks to add site specific styles', u'url': u'https://api.github.com/repos/rchurchley/copernicus/commits/4596b9fd19e0b3f3d45660ee66542d1b4fe9dbde', u'author': {u'email': u'ross@rosschurchley.com', u'name': u'Ross Churchley'}}, {u'distinct': True, u'sha': u'2116e5956af622c03ab4f520200a02079bdd4d94', u'message': u'Generalize: update README', u'url': u'https://api.github.com/repos/rchurchley/copernicus/commits/2116e5956af622c03ab4f520200a02079bdd4d94', u'author': {u'email': u'ross@rosschurchley.com', u'name': u'Ross Churchley'}}, {u'distinct': True, u'sha': u'fbad248750a9f726da527ce461948bc8bfafac2f', u'message': u'Generalize: document HTML structure assumed by CSS', u'url': u'https://api.github.com/repos/rchurchley/copernicus/commits/fbad248750a9f726da527ce461948bc8bfafac2f', u'author': {u'email': u'ross@rosschurchley.com', u'name': u'Ross Churchley'}}, {u'distinct': True, u'sha': u'98c3e6ab4a3823b08a22aa4b80b187460a203271', u'message': u'Consolidate stylesheets', u'url': u'https://api.github.com/repos/rchurchley/copernicus/commits/98c3e6ab4a3823b08a22aa4b80b187460a203271', u'author': {u'email': u'ross@rosschurchley.com', u'name': u'Ross Churchley'}}, {u'distinct': True, u'sha': u'b12319ea726684152f0834c476ec1065aedf3162', u'message': u'Fully separate customizations from code', u'url': u'https://api.github.com/repos/rchurchley/copernicus/commits/b12319ea726684152f0834c476ec1065aedf3162', u'author': {u'email': u'ross@rosschurchley.com', u'name': u'Ross Churchley'}}, {u'distinct': True, u'sha': u'733a490644efcb99e808ff7ef0fb532c84e71c4b', u'message': u'Documentation style', u'url': u'https://api.github.com/repos/rchurchley/copernicus/commits/733a490644efcb99e808ff7ef0fb532c84e71c4b', u'author': {u'email': u'ross@rosschurchley.com', u'name': u'Ross Churchley'}}]\n"
     ]
    },
    {
     "data": {
      "text/plain": [
       "0"
      ]
     },
     "execution_count": 75,
     "metadata": {},
     "output_type": "execute_result"
    }
   ],
   "source": [
    "ctr=0\n",
    "for d in data:\n",
    "    if d['type']=='PushEvent' and d['payload']['size']!=len(d['payload']['commits']):\n",
    "        print d['payload']['commits']\n",
    "        break\n",
    "        ctr=ctr+1\n",
    "ctr"
   ]
  },
  {
   "cell_type": "code",
   "execution_count": 113,
   "metadata": {
    "collapsed": false
   },
   "outputs": [
    {
     "name": "stdout",
     "output_type": "stream",
     "text": [
      "1\n"
     ]
    }
   ],
   "source": [
    "ctr=0\n",
    "break_i=0\n",
    "for d in data:\n",
    "    if d['type']=='PushEvent':\n",
    "        break_i=break_i+1\n",
    "        if break_i>1:\n",
    "            break\n",
    "        else:\n",
    "            ctr=ctr+1\n",
    "    else:\n",
    "        ctr=ctr+1\n",
    "print ctr"
   ]
  },
  {
   "cell_type": "code",
   "execution_count": 114,
   "metadata": {
    "collapsed": false,
    "scrolled": true
   },
   "outputs": [
    {
     "data": {
      "text/plain": [
       "{u'actor': {u'avatar_url': u'https://avatars.githubusercontent.com/u/5581438?',\n",
       "  u'gravatar_id': u'',\n",
       "  u'id': 5581438,\n",
       "  u'login': u'jmoon018',\n",
       "  u'url': u'https://api.github.com/users/jmoon018'},\n",
       " u'created_at': u'2015-01-01T00:00:00Z',\n",
       " u'id': u'2489368072',\n",
       " u'payload': {u'before': u'd5a69a84e4d95c1c2cbc0a828172f9ce94db35c6',\n",
       "  u'commits': [{u'author': {u'email': u'jmoon018@ucr.edu',\n",
       "     u'name': u'Jamal Moon'},\n",
       "    u'distinct': True,\n",
       "    u'message': u'Can be run from outside of bin. Fixed multi-line issue',\n",
       "    u'sha': u'56688cc528224d40679b7e83c105b27367443a8c',\n",
       "    u'url': u'https://api.github.com/repos/jmoon018/rshell-unit-tester/commits/56688cc528224d40679b7e83c105b27367443a8c'}],\n",
       "  u'distinct_size': 1,\n",
       "  u'head': u'56688cc528224d40679b7e83c105b27367443a8c',\n",
       "  u'push_id': 536740397,\n",
       "  u'ref': u'refs/heads/master',\n",
       "  u'size': 1},\n",
       " u'public': True,\n",
       " u'repo': {u'id': 26392647,\n",
       "  u'name': u'jmoon018/rshell-unit-tester',\n",
       "  u'url': u'https://api.github.com/repos/jmoon018/rshell-unit-tester'},\n",
       " u'type': u'PushEvent'}"
      ]
     },
     "execution_count": 114,
     "metadata": {},
     "output_type": "execute_result"
    }
   ],
   "source": [
    "data[1]"
   ]
  },
  {
   "cell_type": "code",
   "execution_count": 115,
   "metadata": {
    "collapsed": true
   },
   "outputs": [],
   "source": [
    "import nltk\n",
    "import pymysql"
   ]
  },
  {
   "cell_type": "code",
   "execution_count": 120,
   "metadata": {
    "collapsed": true
   },
   "outputs": [],
   "source": [
    "connection = pymysql.connect(user='hebda',host='localhost',passwd='',db='GitWatch',charset='utf8')\n",
    "cursor=connection.cursor()"
   ]
  },
  {
   "cell_type": "code",
   "execution_count": 123,
   "metadata": {
    "collapsed": false
   },
   "outputs": [
    {
     "name": "stdout",
     "output_type": "stream",
     "text": [
      "Number of mislabeled points out of a total 150 points : 6\n"
     ]
    }
   ],
   "source": [
    "from sklearn import datasets\n",
    "iris = datasets.load_iris()\n",
    "from sklearn.naive_bayes import GaussianNB\n",
    "gnb = GaussianNB()\n",
    "y_pred = gnb.fit(iris.data, iris.target).predict(iris.data)\n",
    "print(\"Number of mislabeled points out of a total %d points : %d\"\n",
    "    % (iris.data.shape[0],(iris.target != y_pred).sum()))"
   ]
  },
  {
   "cell_type": "code",
   "execution_count": 130,
   "metadata": {
    "collapsed": false
   },
   "outputs": [
    {
     "data": {
      "text/plain": [
       "array([False, False, False, False, False, False, False, False, False,\n",
       "       False, False, False, False, False, False, False, False, False,\n",
       "       False, False, False, False, False, False, False, False, False,\n",
       "       False, False, False, False, False, False, False, False, False,\n",
       "       False, False, False, False, False, False, False, False, False,\n",
       "       False, False, False, False, False, False, False,  True, False,\n",
       "       False, False, False, False, False, False, False, False, False,\n",
       "       False, False, False, False, False, False, False,  True, False,\n",
       "       False, False, False, False, False,  True, False, False, False,\n",
       "       False, False, False, False, False, False, False, False, False,\n",
       "       False, False, False, False, False, False, False, False, False,\n",
       "       False, False, False, False, False, False, False,  True, False,\n",
       "       False, False, False, False, False, False, False, False, False,\n",
       "       False, False,  True, False, False, False, False, False, False,\n",
       "       False, False, False, False, False, False, False,  True, False,\n",
       "       False, False, False, False, False, False, False, False, False,\n",
       "       False, False, False, False, False, False], dtype=bool)"
      ]
     },
     "execution_count": 130,
     "metadata": {},
     "output_type": "execute_result"
    }
   ],
   "source": [
    "iris.target != y_pred"
   ]
  },
  {
   "cell_type": "code",
   "execution_count": 155,
   "metadata": {
    "collapsed": false
   },
   "outputs": [
    {
     "data": {
      "text/plain": [
       "(array([0, 1, 2, 3]),)"
      ]
     },
     "execution_count": 155,
     "metadata": {},
     "output_type": "execute_result"
    }
   ],
   "source": [
    "np.where(iris.data[0]>0)\n"
   ]
  },
  {
   "cell_type": "code",
   "execution_count": 158,
   "metadata": {
    "collapsed": true
   },
   "outputs": [],
   "source": [
    "import numpy as np\n",
    "import pandas as pd"
   ]
  },
  {
   "cell_type": "code",
   "execution_count": 156,
   "metadata": {
    "collapsed": true
   },
   "outputs": [],
   "source": [
    "f = open('text_test.csv','r')\n"
   ]
  },
  {
   "cell_type": "code",
   "execution_count": 157,
   "metadata": {
    "collapsed": false
   },
   "outputs": [
    {
     "data": {
      "text/plain": [
       "'0,28635890,9152315,2015-01-01T00:00:00Z,Altered BingBot.jar  Fixed issue with multiple account support\\n'"
      ]
     },
     "execution_count": 157,
     "metadata": {},
     "output_type": "execute_result"
    }
   ],
   "source": [
    "f.readline()"
   ]
  },
  {
   "cell_type": "code",
   "execution_count": 163,
   "metadata": {
    "collapsed": false
   },
   "outputs": [],
   "source": [
    "from nltk.corpus import stopwords\n"
   ]
  },
  {
   "cell_type": "code",
   "execution_count": 164,
   "metadata": {
    "collapsed": false
   },
   "outputs": [
    {
     "data": {
      "text/plain": [
       "<WordListCorpusReader in u'.../corpora/stopwords' (not loaded yet)>"
      ]
     },
     "execution_count": 164,
     "metadata": {},
     "output_type": "execute_result"
    }
   ],
   "source": [
    "stopwords."
   ]
  },
  {
   "cell_type": "code",
   "execution_count": 1,
   "metadata": {
    "collapsed": true
   },
   "outputs": [],
   "source": [
    "text=open('text.csv')"
   ]
  },
  {
   "cell_type": "code",
   "execution_count": 67,
   "metadata": {
    "collapsed": false
   },
   "outputs": [],
   "source": [
    "line=text.readline()\n",
    "vec=line.split(',',4)\n",
    "datetime.strptime(vec[3], '%Y-%m-%dT%H:%M:%SZ').day"
   ]
  },
  {
   "cell_type": "code",
   "execution_count": 118,
   "metadata": {
    "collapsed": false
   },
   "outputs": [
    {
     "data": {
      "text/plain": [
       "97"
      ]
     },
     "execution_count": 118,
     "metadata": {},
     "output_type": "execute_result"
    }
   ],
   "source": [
    "ord('a')"
   ]
  },
  {
   "cell_type": "code",
   "execution_count": 78,
   "metadata": {
    "collapsed": false
   },
   "outputs": [],
   "source": [
    "from datetime import datetime, date, time"
   ]
  },
  {
   "cell_type": "code",
   "execution_count": 126,
   "metadata": {
    "collapsed": false
   },
   "outputs": [],
   "source": [
    "a=''.join([i if ord(i)>=97 and ord(i)<122 else ' ' for i in vec[4].replace('\\n',' ').lower()]).split()"
   ]
  },
  {
   "cell_type": "code",
   "execution_count": 125,
   "metadata": {
    "collapsed": true
   },
   "outputs": [],
   "source": [
    "tf=dict()"
   ]
  },
  {
   "cell_type": "code",
   "execution_count": 128,
   "metadata": {
    "collapsed": false
   },
   "outputs": [],
   "source": [
    "for i in a:\n",
    "    if i in tf:\n",
    "        tf[i]=tf[i]+1\n",
    "    else:\n",
    "        tf[i]=1"
   ]
  },
  {
   "cell_type": "code",
   "execution_count": 129,
   "metadata": {
    "collapsed": false
   },
   "outputs": [
    {
     "data": {
      "text/plain": [
       "{'by': 1,\n",
       " 'com': 1,\n",
       " 'eggfly': 1,\n",
       " 'gmail': 1,\n",
       " 'jan': 1,\n",
       " 'lihaohua': 1,\n",
       " 'off': 1,\n",
       " 'signed': 1,\n",
       " 'thu': 1}"
      ]
     },
     "execution_count": 129,
     "metadata": {},
     "output_type": "execute_result"
    }
   ],
   "source": [
    "tf\n"
   ]
  },
  {
   "cell_type": "code",
   "execution_count": 144,
   "metadata": {
    "collapsed": false
   },
   "outputs": [],
   "source": [
    "from datetime import datetime, date, time\n"
   ]
  },
  {
   "cell_type": "code",
   "execution_count": 153,
   "metadata": {
    "collapsed": false
   },
   "outputs": [
    {
     "data": {
      "text/plain": [
       "<WordListCorpusReader in u'.../corpora/stopwords' (not loaded yet)>"
      ]
     },
     "execution_count": 153,
     "metadata": {},
     "output_type": "execute_result"
    }
   ],
   "source": [
    "from nltk.corpus import stopwords\n",
    "stopwords"
   ]
  },
  {
   "cell_type": "code",
   "execution_count": 165,
   "metadata": {
    "collapsed": false
   },
   "outputs": [],
   "source": [
    "sorted_tf=sorted(tf.items(),key=operator.itemgetter(1),reverse=True)"
   ]
  },
  {
   "cell_type": "code",
   "execution_count": 174,
   "metadata": {
    "collapsed": false
   },
   "outputs": [],
   "source": [
    "output=\"\"\n",
    "for i in range(1500):\n",
    "    output+=\"\\'%s\\', \" % sorted_tf[i][0]\n"
   ]
  },
  {
   "cell_type": "code",
   "execution_count": 175,
   "metadata": {
    "collapsed": false,
    "scrolled": true
   },
   "outputs": [
    {
     "data": {
      "text/plain": [
       "\"'the', 'to', 'a', 'for', 'and', 'in', 'of', 'i', 'd', 'is', 'b', 'it', 'this', 'from', 'c', 'add', 'update', 'on', 'merge', 'com', 'e', 'fix', 'https', 'with', 'that', 'added', 'by', 'be', 'not', 'id', 'org', 'f', 't', 'request', 'pull', 's', 'you', 'github', 'test', 'as', 'if', 'file', 'node', 'new', 'git', 'modules', 'svn', 'branch', 'use', 'change', 'readme', 'master', 'we', 'when', 'x', 'code', 'fixed', 'can', 'source', 'at', 'have', 'into', 'commit', 'are', 'contrib', 'but', 'off', 'updated', 'md', 'version', 'cf', 'fc', 'so', 'an', 'signed', 'some', 'remove', 'more', 'or', 'all', 'now', 'sakaiproject', 'fdecad', 'melete', 'tests', 'will', 'no', 'build', 'should', 'bug', 'error', 'was', 'do', 'files', 'up', 'issue', 'trunk', 'data', 'make', 'support', 'changes', 'create', 'http', 'js', 'm', 'fixes', 'set', 'page', 'get', 'name', 'only', 'using', 'one', 'which', 'also', 'there', 'html', 'work', 'user', 'just', 'removed', 'function', 'v', 'would', 'src', 'line', 'don', 'like', 'adding', 'out', 'default', 'class', 'time', 'lib', 'need', 'my', 'list', 'config', 'check', 'has', 'api', 'de', 'py', 'java', 'first', 'r', 'changed', 'imagemin', 'after', 'type', 'server', 'what', 'release', 'instead', 'about', 'thanks', 'your', 'app', 'project', 'method', 'h', 'json', 'index', 'site', 'php', 'bin', 'other', 'view', 'issues', 'python', 'see', 'used', 'foothill', 'any', 'info', 'think', 'n', 'patch', 'etudes', 'same', 'value', 'before', 'message', 'ed', 'delete', 'me', 'run', 'url', 'path', 'package', 'string', 'image', 'case', 'main', 'could', 'working', 'then', 'gmail', 'link', 'does', 'l', 'text', 'module', 'css', 'here', 'initial', 'because', 'move', 'problem', 'dev', 'still', 'feature', 're', 'o', 'example', 'they', 'si', 'system', 'script', 'missing', 'core', 'date', 'way', 'better', 'how', 'linux', 'p', 'return', 'pr', 'debug', 'conflicts', 'log', 'call', 'where', 'allow', 'style', 'cc', 'xml', 'command', 'since', 'start', 'install', 'than', 'option', 'doesn', 'been', 'tags', 'travis', 'packages', 'local', 'net', 'g', 'client', 'minor', 'object', 'show', 'comment', 'done', 'post', 'documentation', 'them', 'docs', 'plugin', 'db', 'go', 'key', 'try', 'remote', 'testing', 'output', 'revert', 'updating', 'sure', 'branches', 'll', 'email', 'adds', 'via', 'users', 'io', 'content', 'end', 'updates', 'back', 'include', 'rename', 'status', 'settings', 'these', 'number', 'develop', 'y', 'mode', 'event', 'too', 'android', 'bit', 'library', 'good', 'without', 'being', 'old', 'null', 'created', 'well', 'want', 'cleanup', 'pages', 'ui', 'current', 'right', 'made', 'form', 'correct', 'typo', 'download', 'search', 'ation', 'works', 'please', 'am', 'closes', 'base', 'functions', 'grunt', 'tracking', 'comments', 'home', 'usr', 'init', 'its', 'directory', 'methods', 'device', 'edit', 'model', 'button', 'non', 've', 'errors', 'two', 'already', 'true', 'muse', 'part', 'jan', 'know', 'doc', 'table', 'process', 'something', 'order', 'ambrosia', 'template', 'read', 'windows', 'moved', 'options', 'task', 'ok', 'different', 'state', 'display', 'directly', 'format', 'license', 'may', 'values', 'mneme', 'kernel', 'auto', 'reviewed', 'google', 'handle', 'pass', 'variable', 'header', 'while', 'cache', 'last', 'again', 'find', 'map', 'help', 'setting', 'open', 'seems', 'configuration', 'each', 'u', 'ci', 'another', 'found', 'running', 'setup', 'bump', 'field', 'copy', 'point', 'tag', 'were', 'modified', 'empty', 'self', 'clean', 'import', 'really', 'small', 'array', 'ip', 'even', 'thread', 'unit', 'based', 'next', 'actually', 'web', 'service', 'avoid', 'menu', 'interface', 'load', 'refactor', 'implement', 'implementation', 'available', 'input', 'images', 'ruby', 'look', 'stuff', 'both', 'static', 'information', 'write', 'reference', 'initiali', 'over', 'block', 'warning', 'let', 'needed', 'custom', 'might', 'w', 'fixing', 'txt', 'rb', 'folder', 'possible', 'merged', 'links', 'www', 'sh', 'builds', 'why', 'reply', 'note', 'multiple', 'basic', 'gitignore', 'common', 'latest', 'enable', 'review', 'admin', 'always', 'things', 'access', 'cpp', 'did', 'en', 'level', 'names', 'looks', 'mn', 'implemented', 'memory', 'k', 'wrong', 'single', 'notifications', 'improve', 'handling', 'very', 'origin', 'messages', 'title', 'much', 'classes', 'address', 'root', 'controller', 'database', 'section', 'assets', 'property', 'layout', 'long', 'replace', 'unused', 'simple', 'few', 'repo', 'versions', 'exception', 'had', 'close', 'application', 'between', 'parameter', 'external', 'target', 'types', 'job', 'upstream', 'result', 'png', 'able', 'yes', 'reverts', 'dist', 'false', 'component', 'removing', 'game', 'ignore', 'following', 'da', 'bb', 'needs', 'trying', 'stream', 'take', 'j', 'match', 'send', 'uses', 'around', 'our', 'results', 'filter', 'dependency', 'icon', 'var', 'wrapper', 'most', 'report', 'la', 'description', 'plugins', 'specific', 'bc', 'extra', 'sync', 'etc', 'related', 'their', 'logic', 'currently', 'context', 'probably', 'query', 'put', 'group', 'tested', 'yet', 'gui', 'login', 'color', 'through', 'spec', 'dependencies', 'save', 'af', 'store', 'syntax', 'pm', 'wrote', 'makes', 'maybe', 'item', 'coverage', 'generated', 'translation', 'screen', 'strings', 'separate', 'internal', 'keep', 'per', 'such', 'author', 'scripts', 'own', 'switch', 'ac', 'creating', 'cd', 'solution', 'fd', 'control', 'require', 'disable', 'df', 'original', 'features', 'going', 'sak', 'correctly', 'public', 'us', 'ca', 'blob', 'under', 'though', 'full', 'ad', 'fb', 'bugs', 'connection', 'sc', 'es', 'space', 'window', 'maven', 'port', 'required', 'er', 'those', 'ea', 'os', 'failed', 'unknown', 'action', 'cpu', 'development', 'lines', 'items', 'functionality', 'due', 'top', 'events', 'print', 'flag', 'fa', 'hash', 'lang', 'cases', 'conf', 'started', 'ff', 'ec', 'document', 'cs', 'idea', 'bootstrap', 'rather', 'apache', 'properly', 'dd', 'once', 'ce', 'getting', 'down', 'manager', 'compile', 'ab', 'many', 'video', 'during', 'usage', 'variables', 'sort', 'aa', 'free', 'deleted', 'question', 'tree', 'broken', 'yml', 'enabled', 'isn', 'docker', 'npm', 'longer', 'complete', 'got', 'upgrade', 'bar', 'improved', 'cb', 'called', 'fail', 'refactoring', 'skip', 'optimi', 'upload', 'structure', 'gh', 'ae', 'modify', 'symfony', 'however', 'logging', 'lock', 'second', 'requests', 'instance', 'dc', 'ba', 'llvm', 'int', 'year', 'max', 'having', 'commands', 'driver', 'fields', 'less', 'ee', 'drop', 'framework', 'br', 'place', 'mit', 'metadata', 'calls', 'publish', 'obj', 'location', 'profile', 'arm', 'checking', 'repository', 'label', 'loading', 'makefile', 'generate', 'response', 'spark', 'step', 'pre', 'properties', 'commits', 'renamed', 'newdatefix', 'push', 'must', 'didn', 'console', 'clear', 'theme', 'fe', 'language', 'global', 'player', 'cannot', 'bd', 'select', 'eb', 'entry', 'account', 'blog', 'formatting', 'argument', 'thing', 'doing', 'fine', 'wip', 'previous', 'tools', 'bad', 'validation', 'helper', 'parameters', 'finished', 'side', 'bf', 'session', 'buffer', 'rails', 'deprecated', 'dir', 'every', 'changing', 'host', 'projects', 'sorry', 'environment', 'center', 'examples', 'problems', 'cloud', 'resource', 'integration', 'final', 'making', 'q', 'ef', 'left', 'never', 'el', 'additional', 'behavior', 'width', 'li', 'existing', 'copyright', 'lot', 'jquery', 'count', 'little', 'moving', 'redhat', 'until', 'utc', 'changelog', 'hi', 'todo', 'jenkins', 'welcome', 'background', 'objects', 'valid', 'split', 'sample', 'loop', 'else', 'resources', 'stop', 'attribute', 'views', 'security', 'bundle', 'demo', 'performance', 'gems', 'badge', 'defined', 'extension', 'expected', 'coveralls', 'font', 'reason', 'installed', 'jar', 'rust', 'javascript', 'issuecomment', 'people', 'element', 'passed', 'stack', 'inside', 'reset', 'finish', 'provide', 'platform', 'compiler', 'network', 'browser', 'thank', 'progress', 'failure', 'above', 'fails', 'keys', 'course', 'automatically', 'crash', 'container', 'prevent', 'password', 'standard', 'building', 'paths', 'notes', 'either', 'length', 'details', 'later', 'parsing', 'future', 'ing', 'everything', 'stable', 'warnings', 'double', 'media', 'invalid', 'unnecessary', 'gcc', 'active', 'storage', 'least', 'composer', 'parse', 'design', 'parser', 'timeout', 'tab', 'box', 'apis', 'sql', 'great', 'icons', 'anything', 'headers', 'editor', 'head', 'private', 'handler', 'instructions', 'templates', 'real', 'services', 'beta', 'cause', 'allows', 'world', 'give', 'row', 'min', 'starting', 'ssh', 'disabled', 'checks', 'necessary', 'ch', 'scheme', 'arguments', 'register', 'returns', 'useful', 'ie', 'creation', 'column', 'prepare', 'tasks', 'models', 'ero', 'proper', 'ubuntu', 'fs', 'improvements', 'scala', 'none', 'env', 'height', 'un', 'kind', 'definition', 'binary', 'convert', 'override', 'callback', 'msm', 'summary', 'built', 'mobile', 'tmp', 'portal', 'buttons', 'locations', 'duplicate', 'closing', 'export', 'nice', 'program', 'undefined', 'click', 'ensure', 'vim', 'apply', 'markdown', 'optipng', 'util', 'given', 'shell', 'wait', 'pngquant', 'general', 'gifsicle', 'jpegtran', 'meta', 'define', 'tried', 'rest', 'recent', 'blueman', 'diff', 'gem', 'position', 'auth', 'githubusercontent', 'mac', 'supported', 'enough', 'included', 'illa', 'product', 'range', 'styles', 'rules', 'easier', 'random', 'tar', 'sense', 'pretty', 'references', 'mo', 'bugfix', 'best', 'patches', 'history', 'decompress', 'optional', 'break', 'cm', 'backend', 'special', 'foo', 'cli', 'apps', 'whether', 'deploy', 'tool', 'elements', 'limit', 'actual', 'card', 'various', 'whitespace', 'looking', 'within', 'refactored', 'pointer', 'generic', 'happy', 'audio', 'token', 'power', 'pool', 'spaces', 'lps', 'sub', 'res', 'won', 'means', 'rc', 'simplify', 'logs', 'ios', 'protocol', 'runtime', 'drivers', 'engine', 'std', 'parent', 'href', 'angular', 'body', 'force', 'sphinx', 'route', 'hard', 'components', 'ready', 'intel', 'navigation', 'similar', 'mean', 'repos', 'multi', 'filters', 'exist', 'corrected', 'mysql', 'domain', 'inline', 'ability', 'itself', 'laneworks', 'against', 'mod', 'refs', 'ref', 'bower', 'quick', 'sp', 'footer', 'website', 'configure', 'schema', 'cherry', 'further', 'requires', 'queue', 'questions', 'success', 'gnu', 'socket', 'boot', 'nothing', 'blocks', 'caused', 'picked', 'sent', 'attributes', 'contains', 'failing', 'closed', 'snapshot', 'layer', 'selection', 'le', 'win', 'otherwise', 'say', 'namespace', 'shared', 'compatibility', 'scope', 'replaced', 'machine', 'flags', 'adjust', 'installation', 'revision', 'param', 'wiki', 'div', 'bind', 'activity', 'vs', 'exit', 'track', 'easy', 'contact', 'accept', 'extensions', 'times', 'opt', 'rule', 'reflect', 'utils', 'dialog', 'tweaks', 'se', 'answer', 'prefix', 'incorrect', 'proxy', 'nodes', 'styling', 'guess', 'devices', 'discussion', 'condition', 'record', 'follow', 'reading', 'includes', 'bytes', 'gets', 'debian', 'const', 'cleaned', 'exists', 'seriali', 'args', 'share', 'reduce', 'completed', 'posts', 'guide', 'mark', 'mail', 'notification', 'anyway', 'cmake', 'big', 'loaded', 'merging', 'calling', 'libraries', 'debugging', 'urls', 'mesalib', 'native', 'play', 'frame', 'render', 'wordpress', 'passing', 'ticket', 'including', 'channel', 'numbers', 'ratio', 'blank', 'quite', 'pom', 'entity', 'day', 'widget', 'verify', 'stats', 'foundation', 'collection', 'pattern', 'resolve', 'reported', 'several', 'unless', 'soon', 'trigger', 'specify', 'understand', 'lua', 'large', 'encoding', 'seem', 'signal', 'codeaurora', 'actions', 'ms', 'category', 'generation', 'connect', 'specified', 'present', 'logo', 'writing', 'lists', 'dynamic', 'rendering', 'dom', 'grid', 'hide', 'nav', 'strong', 'hello', 'who', 'ones', 'verbose', 'chrome', 'float', 'statement', 'archive', 'refresh', 'consistent', 'groups', 'visible', 'shouldn', 'vendor', 'removes', 'attempt', 'far', 'rebase', 'production', 'blue', 'panel', 'que', 'pc', 'params', 'simply', 'team', 'img', 'normal', 'migration', 'graph', 'forward', 'temp', 'tweak', 'submit', 'processing', 'dec', 'introduced', 'translations', 'liferay', 'feedback', 'chapter', 'david', 'jpg', 'pid', 'generator', 'filename', 'yaml', 'et', 'pdf', 'timer', 'watch', 'co', 'sign', 'sys', 'character', 'total', 'selected', 'entries', 'connected', 'raw', 'kener', 'confirm', 'rubocop', 'translated', 'vagrant', 'anymore', 'struct', 'homer', 'breaking', 'matrix', 'yeah', 'prefer', 'requirements', 'whole', 'pulling', 'indentation', 'policy', 'ha', 'ssl', 'animation', 'word', 'thought', 'specs', 'edu', 'redundant', 'copying', 'typos', 'previously', 'explicit', 'worked', 'para', 'routes', 'manually', 'live', 'provider', 'forgot', 'automatic', 'osx', 'notice', 'utf', 'vm', 'du', 'gulp', 'macro', 'characters', 'bash', 'conflict', 'catch', 'async', 'compilation', 'speed', 'cmd', 'ids', 'written', 'backup', 'provided', 'func', 'article', 'deps', 'ext', 'checked', 'sass', 'plan', 'manual', 'sf', 'bus', 'constructor', 'showing', 'mr', 'below', 'front', 'tables', 'cleaning', 'seconds', 'turn', 'uri', 'someone', 'feel', 'tabs', 'agent', 'short', 'arch', 'integer', 'twitter', 'coding', 'plus', 'happens', 'cluster', 'operations', 'wasn', 'builder', 'sdk', 'eclipse', 'alias', 'shows', 'agree', 'px', 'returned', 'detail', 'clang', 'mb', 'michael', 'prod', 'resolved', 'quotes', 'extract', 'operation', 'perhaps', 'happen', 'causing', 'sha', 'causes', 'detection', 'def', 'eaae', 'mapping', 'des', 'char', 'imports', 'fork', 'camera', 'conversion', 'django', 'fetch', 'breaks', 'rid', 'contents', 'cl', 'relative', 'explicitly', 'points', 'byte', 'username', 'board', 'partial', 'usb', 'couple', 'member', 'rst', 'steps', 'signature', 'correction', 'mousepath', 'functional', 'constant', 'wrap', 'management', 'flow', 'libs', 'allowed', 'hook', 'important', 'haven', 'takes', 'err', 'msg', 'workaround', 'sources', 'manifest', 'approach', 'addition', 'high', 'effect', 'fast', 'news', 'trailing', 'sound', 'ini', 'likely', 'delay', 'compatible', 'resi', 'developer', 'na', 'hidden', 'st', 'layers', 'colors', 'acked', 'rewrite', 'hardware', 'he', 'execute', 'lookup', 'factory', 'come', 'readable', 'safe', 'insert', 'uk', 'cname', 'behaviour', 'awesome', 'scroll', 'permissions', 'increase', 'sending', \""
      ]
     },
     "execution_count": 175,
     "metadata": {},
     "output_type": "execute_result"
    }
   ],
   "source": [
    "output"
   ]
  },
  {
   "cell_type": "code",
   "execution_count": 177,
   "metadata": {
    "collapsed": false
   },
   "outputs": [],
   "source": [
    "tf_dict=['the', 'to', 'a', 'for', 'and', 'in', 'of', 'is', 'it', 'this', 'from', 'add', 'update', 'on', 'merge', 'com', 'fix', 'https', 'with', 'that', 'added', 'by', 'be', 'not', 'id', 'org', 'request', 'pull', 'you', 'github', 'test', 'as', 'if', 'file', 'node', 'new', 'git', 'modules', 'svn', 'branch', 'use', 'change', 'readme', 'master', 'we', 'when', 'code', 'fixed', 'can', 'source', 'at', 'have', 'into', 'commit', 'are', 'contrib', 'but', 'off', 'updated', 'version', 'so', 'an', 'signed', 'some', 'remove', 'more', 'or', 'all', 'now', 'tests', 'will', 'no', 'build', 'should', 'bug', 'error', 'was', 'do', 'files', 'up', 'issue', 'trunk', 'data', 'make', 'support', 'changes', 'create', 'http', 'fixes', 'set', 'page', 'get', 'name', 'only', 'using', 'one', 'which', 'also', 'there', 'html', 'work', 'user', 'just', 'removed', 'function', 'would', 'src', 'line', 'like', 'adding', 'out', 'default', 'class', 'time', 'lib', 'need', 'my', 'list', 'config', 'check', 'has', 'api', 'py', 'java', 'first', 'r', 'changed', 'after', 'type', 'server', 'what', 'release', 'instead', 'about', 'thanks', 'your', 'app', 'project', 'method', 'json', 'index', 'site', 'php', 'bin', 'other', 'view', 'issues', 'python', 'see', 'used', 'foothill', 'any', 'info', 'think', 'patch', 'same', 'value', 'before', 'message', 'delete', 'me', 'run', 'url', 'path', 'package', 'string', 'image', 'case', 'main', 'could', 'working', 'then', 'gmail', 'link', 'does', 'text', 'module', 'css', 'here', 'initial', 'because', 'move', 'problem', 'dev', 'still', 'feature', 'example', 'they', 'system', 'script', 'missing', 'core', 'date', 'way', 'better', 'how', 'linux', 'return', 'debug', 'conflicts', 'log', 'call', 'where', 'allow', 'style', 'xml', 'command', 'since', 'start', 'install', 'than', 'option', 'been', 'tags', 'packages', 'local', 'net', 'client', 'minor', 'object', 'show', 'comment', 'done', 'post', 'documentation', 'them', 'docs', 'plugin', 'db', 'go', 'key', 'try', 'remote', 'testing', 'output', 'revert', 'updating', 'sure', 'branches', 'email', 'adds', 'via', 'users', 'io', 'content', 'end', 'updates', 'back', 'include', 'rename', 'status', 'settings', 'these', 'number', 'develop', 'mode', 'event', 'too', 'android', 'bit', 'library', 'good', 'without', 'being', 'old', 'null', 'created', 'well', 'want', 'cleanup', 'pages', 'ui', 'current', 'right', 'made', 'form', 'correct', 'typo', 'download', 'search', 'works', 'please', 'am', 'closes', 'base', 'functions', 'grunt', 'tracking', 'comments', 'home', 'init', 'its', 'directory', 'methods', 'device', 'edit', 'model', 'button', 'errors', 'two', 'already', 'true', 'muse', 'part', 'know', 'doc', 'table', 'process', 'something', 'order', 'template', 'read', 'windows', 'moved', 'options', 'task', 'ok', 'different', 'state', 'display', 'directly', 'format', 'license', 'may', 'values', 'kernel', 'auto', 'reviewed', 'google', 'handle', 'pass', 'variable', 'header', 'while', 'cache', 'last', 'again', 'find', 'map', 'help', 'setting', 'open', 'seems', 'configuration', 'each', 'another', 'found', 'running', 'setup', 'bump', 'field', 'copy', 'point', 'tag', 'were', 'modified', 'empty', 'self', 'clean', 'import', 'really', 'small', 'array', 'ip', 'even', 'thread', 'unit', 'based', 'next', 'actually', 'web', 'service', 'avoid', 'menu', 'interface', 'load', 'refactor', 'implement', 'implementation', 'available', 'input', 'images', 'ruby', 'look', 'stuff', 'both', 'static', 'information', 'write', 'reference', 'over', 'block', 'warning', 'let', 'needed', 'custom', 'might', 'w', 'fixing', 'txt', 'folder', 'possible', 'merged', 'links', 'www', 'sh', 'builds', 'why', 'reply', 'note', 'multiple', 'basic', 'gitignore', 'common', 'latest', 'enable', 'review', 'admin', 'always', 'things', 'access', 'cpp', 'did', 'level', 'names', 'looks', 'implemented', 'memory', 'wrong', 'single', 'notifications', 'improve', 'handling', 'very', 'origin', 'messages', 'title', 'much', 'classes', 'address', 'root', 'controller', 'database', 'section', 'assets', 'property', 'layout', 'long', 'replace', 'unused', 'simple', 'few', 'repo', 'versions', 'exception', 'had', 'close', 'application', 'between', 'parameter', 'external', 'target', 'types', 'job', 'upstream', 'result', 'png', 'able', 'yes', 'reverts', 'dist', 'false', 'component', 'removing', 'game', 'ignore', 'following', 'needs', 'trying', 'stream', 'take', 'match', 'send', 'uses', 'around', 'our', 'results', 'filter', 'dependency', 'icon', 'var', 'wrapper', 'most', 'report', 'description', 'plugins', 'specific', 'bc', 'extra', 'sync', 'etc', 'related', 'their', 'logic', 'currently', 'context', 'probably', 'query', 'put', 'group', 'tested', 'yet', 'gui', 'login', 'color', 'through', 'spec', 'dependencies', 'save', 'af', 'store', 'syntax', 'pm', 'wrote', 'makes', 'maybe', 'item', 'coverage', 'generated', 'translation', 'screen', 'strings', 'separate', 'internal', 'keep', 'per', 'such', 'author', 'scripts', 'own', 'switch', 'creating', 'solution', 'control', 'require', 'disable', 'original', 'features', 'going', 'correctly', 'public', 'us', 'blob', 'under', 'though', 'full', 'ad', 'bugs', 'connection', 'space', 'window', 'maven', 'port', 'required', 'those', 'os', 'failed', 'unknown', 'action', 'cpu', 'development', 'lines', 'items', 'functionality', 'due', 'top', 'events', 'print', 'flag', 'hash', 'lang', 'cases', 'conf', 'started', 'document', 'cs', 'idea', 'bootstrap', 'rather', 'apache', 'properly', 'once', 'getting', 'down', 'manager', 'compile', 'many', 'video', 'during', 'usage', 'variables', 'sort', 'free', 'deleted', 'question', 'tree', 'broken', 'yml', 'enabled', 'docker', 'longer', 'complete', 'got', 'upgrade', 'bar', 'improved', 'called', 'fail', 'refactoring', 'skip', 'upload', 'structure', 'modify', 'however', 'logging', 'lock', 'second', 'requests', 'instance', 'int', 'year', 'max', 'having', 'commands', 'driver', 'fields', 'less', 'drop', 'framework', 'place', 'metadata', 'calls', 'publish', 'obj', 'location', 'profile', 'arm', 'checking', 'repository', 'label', 'loading', 'makefile', 'generate', 'response', 'spark', 'step', 'properties', 'commits', 'renamed', 'push', 'must', 'console', 'clear', 'theme', 'language', 'global', 'player', 'cannot', 'select', 'entry', 'account', 'blog', 'formatting', 'argument', 'thing', 'doing', 'fine', 'previous', 'tools', 'bad', 'validation', 'helper', 'parameters', 'finished', 'side', 'session', 'buffer', 'rails', 'deprecated', 'dir', 'every', 'changing', 'host', 'projects', 'sorry', 'environment', 'center', 'examples', 'problems', 'cloud', 'resource', 'integration', 'final', 'making', 'left', 'never', 'additional', 'behavior', 'width', 'existing', 'copyright', 'lot', 'jquery', 'count', 'little', 'moving', 'redhat', 'until', 'utc', 'changelog', 'hi', 'jenkins', 'welcome', 'background', 'objects', 'valid', 'split', 'sample', 'loop', 'else', 'resources', 'stop', 'attribute', 'views', 'security', 'bundle', 'demo', 'performance', 'gems', 'badge', 'defined', 'extension', 'expected', 'coveralls', 'font', 'reason', 'installed', 'jar', 'rust', 'javascript', 'issuecomment', 'people', 'element', 'passed', 'stack', 'inside', 'reset', 'finish', 'provide', 'platform', 'compiler', 'network', 'browser', 'thank', 'progress', 'failure', 'above', 'fails', 'keys', 'course', 'automatically', 'crash', 'container', 'prevent', 'password', 'standard', 'building', 'paths', 'notes', 'either', 'length', 'details', 'later', 'parsing', 'future', 'everything', 'stable', 'warnings', 'double', 'media', 'invalid', 'unnecessary', 'gcc', 'active', 'storage', 'least', 'composer', 'parse', 'design', 'parser', 'timeout', 'tab', 'box', 'apis', 'sql', 'great', 'icons', 'anything', 'headers', 'editor', 'head', 'private', 'handler', 'instructions', 'templates', 'real', 'services', 'beta', 'cause', 'allows', 'world', 'give', 'row', 'min', 'starting', 'ssh', 'disabled', 'checks', 'necessary', 'scheme', 'arguments', 'register', 'returns', 'useful', 'creation', 'column', 'prepare', 'tasks', 'models', 'proper', 'ubuntu', 'improvements', 'scala', 'none', 'env', 'height', 'kind', 'definition', 'binary', 'convert', 'override', 'callback', 'msm', 'summary', 'built', 'mobile', 'tmp', 'portal', 'buttons', 'locations', 'duplicate', 'closing', 'export', 'nice', 'program', 'undefined', 'click', 'ensure', 'vim', 'apply', 'markdown', 'optipng', 'util', 'given', 'shell', 'wait', 'general', 'meta', 'define', 'tried', 'rest', 'recent', 'blueman', 'diff', 'gem', 'position', 'auth', 'mac', 'supported', 'enough', 'included', 'product', 'range', 'styles', 'rules', 'easier', 'random', 'tar', 'sense', 'pretty', 'references', 'bugfix', 'best', 'patches', 'history', 'decompress', 'optional', 'break', 'backend', 'special', 'apps', 'whether', 'deploy', 'tool', 'elements', 'limit', 'actual', 'card', 'various', 'whitespace', 'looking', 'within', 'refactored', 'pointer', 'generic', 'happy', 'audio', 'token', 'power', 'pool', 'spaces', 'sub', 'res', 'won', 'means', 'simplify', 'logs', 'ios', 'protocol', 'runtime', 'drivers', 'engine', 'std', 'parent', 'href', 'angular', 'body', 'force', 'sphinx', 'route', 'hard', 'components', 'ready', 'intel', 'navigation', 'similar', 'mean', 'repos', 'multi', 'filters', 'exist', 'corrected', 'mysql', 'domain', 'inline', 'ability', 'itself', 'laneworks', 'against', 'mod', 'refs', 'ref', 'bower', 'quick', 'footer', 'website', 'configure', 'schema', 'cherry', 'further', 'requires', 'queue', 'questions', 'success', 'gnu', 'socket', 'boot', 'nothing', 'blocks', 'caused', 'picked', 'sent', 'attributes', 'contains', 'failing', 'closed', 'snapshot', 'layer', 'selection', 'win', 'otherwise', 'say', 'namespace', 'shared', 'compatibility', 'scope', 'replaced', 'machine', 'flags', 'adjust', 'installation', 'revision', 'param', 'wiki', 'bind', 'activity', 'vs', 'exit', 'track', 'easy', 'contact', 'accept', 'extensions', 'times', 'opt', 'rule', 'reflect', 'utils', 'dialog', 'tweaks', 'answer', 'prefix', 'incorrect', 'proxy', 'nodes', 'styling', 'guess', 'devices', 'discussion', 'condition', 'record', 'follow', 'reading', 'includes', 'bytes', 'gets', 'debian', 'const', 'cleaned', 'exists', 'args', 'share', 'reduce', 'completed', 'posts', 'guide', 'mark', 'mail', 'notification', 'anyway', 'cmake', 'big', 'loaded', 'merging', 'calling', 'libraries', 'debugging', 'urls', 'native', 'play', 'frame', 'render', 'wordpress', 'passing', 'ticket', 'including', 'channel', 'numbers', 'ratio', 'blank', 'quite', 'entity', 'day', 'widget', 'verify', 'stats', 'foundation', 'collection', 'pattern', 'resolve', 'reported', 'several', 'unless', 'soon', 'trigger', 'specify', 'understand', 'large', 'encoding', 'seem', 'signal', 'codeaurora', 'actions', 'category', 'generation', 'connect', 'specified', 'present', 'logo', 'writing', 'lists', 'dynamic', 'rendering', 'grid', 'hide', 'nav', 'strong', 'hello', 'who', 'ones', 'verbose', 'chrome', 'float', 'statement', 'archive', 'refresh', 'consistent', 'groups', 'visible', 'vendor', 'removes', 'attempt', 'far', 'rebase', 'production', 'blue', 'panel', 'params', 'simply', 'team', 'img', 'normal', 'migration', 'graph', 'forward', 'temp', 'tweak', 'submit', 'processing', 'introduced', 'translations', 'liferay', 'feedback', 'chapter', 'jpg', 'generator', 'filename', 'pdf', 'timer', 'watch', 'sign', 'sys', 'character', 'total', 'selected', 'entries', 'connected', 'raw', 'confirm', 'translated', 'vagrant', 'anymore', 'struct', 'homer', 'breaking', 'matrix', 'yeah', 'prefer', 'requirements', 'whole', 'pulling', 'indentation', 'policy', 'ha', 'ssl', 'animation', 'word', 'thought', 'specs', 'edu', 'redundant', 'copying', 'typos', 'previously', 'explicit', 'worked', 'para', 'routes', 'manually', 'live', 'provider', 'forgot', 'automatic', 'osx', 'notice', 'utf', 'gulp', 'macro', 'characters', 'bash', 'conflict', 'catch', 'async', 'compilation', 'speed', 'written', 'backup', 'provided', 'func', 'article', 'deps', 'checked', 'sass', 'plan', 'manual', 'sf', 'bus', 'constructor', 'showing', 'mr', 'below', 'front', 'tables', 'cleaning', 'seconds', 'turn', 'uri', 'someone', 'feel', 'tabs', 'agent', 'short', 'arch', 'integer', 'twitter', 'coding', 'plus', 'happens', 'cluster', 'operations', 'builder', 'eclipse', 'alias', 'shows', 'agree', 'returned', 'detail', 'clang', 'prod', 'resolved', 'quotes', 'extract', 'operation', 'perhaps', 'happen', 'causing', 'sha', 'causes', 'detection', 'def', 'mapping', 'char', 'imports', 'fork', 'camera', 'conversion', 'django', 'fetch', 'breaks', 'rid', 'contents', 'relative', 'explicitly', 'points', 'byte', 'username', 'board', 'partial', 'usb', 'couple', 'member', 'steps', 'signature', 'correction', 'mousepath', 'functional', 'constant', 'wrap', 'management', 'flow', 'libs', 'allowed', 'hook', 'important', 'takes', 'err', 'msg', 'workaround', 'sources', 'manifest', 'approach', 'addition', 'high', 'effect', 'fast', 'news', 'trailing', 'sound', 'likely', 'delay', 'compatible', 'developer', 'na', 'hidden', 'st', 'layers', 'colors', 'acked', 'rewrite', 'hardware', 'he', 'execute', 'lookup', 'factory', 'come', 'readable', 'safe', 'insert', 'uk', 'cname', 'behaviour', 'awesome', 'scroll', 'permissions', 'increase', 'sending']"
   ]
  },
  {
   "cell_type": "code",
   "execution_count": 5,
   "metadata": {
    "collapsed": false
   },
   "outputs": [
    {
     "data": {
      "text/plain": [
       "datetime.date(1, 1, 1)"
      ]
     },
     "execution_count": 5,
     "metadata": {},
     "output_type": "execute_result"
    }
   ],
   "source": [
    "import datetime\n",
    "datetime.date(1,1,1)"
   ]
  },
  {
   "cell_type": "code",
   "execution_count": 196,
   "metadata": {
    "collapsed": false
   },
   "outputs": [],
   "source": [
    "f=open('features_dict.info')\n",
    "features=[]\n",
    "for line in f.readlines():\n",
    "    features.append(line.replace('\\n',''))\n",
    "f.close()\n"
   ]
  },
  {
   "cell_type": "code",
   "execution_count": 209,
   "metadata": {
    "collapsed": false
   },
   "outputs": [
    {
     "data": {
      "text/plain": [
       "datetime.datetime(2015, 4, 1, 0, 0)"
      ]
     },
     "execution_count": 209,
     "metadata": {},
     "output_type": "execute_result"
    }
   ],
   "source": [
    "d = date(2005, 7, 14)\n",
    "t = time(12, 30, 0)\n",
    "datetime.datetime.combine(date(2015,4,1), time(0,0,0))\n",
    "#dt=datetime.datetime.astimezone (2015,4,1,0,0,0)"
   ]
  },
  {
   "cell_type": "code",
   "execution_count": 210,
   "metadata": {
    "collapsed": false
   },
   "outputs": [
    {
     "data": {
      "text/plain": [
       "1346"
      ]
     },
     "execution_count": 210,
     "metadata": {},
     "output_type": "execute_result"
    }
   ],
   "source": [
    "len(features)"
   ]
  },
  {
   "cell_type": "code",
   "execution_count": 211,
   "metadata": {
    "collapsed": true
   },
   "outputs": [],
   "source": [
    "text=open('text.csv')"
   ]
  },
  {
   "cell_type": "code",
   "execution_count": 218,
   "metadata": {
    "collapsed": false
   },
   "outputs": [
    {
     "name": "stdout",
     "output_type": "stream",
     "text": [
      "make vector\n",
      "make vector\n",
      "make vector\n",
      "make vector\n",
      "make vector\n",
      "make vector\n",
      "make vector\n",
      "make vector\n",
      "make vector\n",
      "make vector\n"
     ]
    }
   ],
   "source": [
    "line=text.readline()\n",
    "\n",
    "vec=line.split(',',4)\n",
    "eventid=int(vec[0])\n",
    "repoid=int(vec[2])\n",
    "timestamp=datetime.datetime.strptime(vec[3], '%Y-%m-%dT%H:%M:%SZ')\n",
    "message=vec[4]\n",
    "\n",
    "words=''.join([i if ord(i)>=97 and ord(i)<122 else ' ' for i in message.replace('\\n',' ').lower()]).split()\n",
    "for i in words:\n",
    "    if i in features:\n",
    "        print \"make vector\"\n",
    "#text.close()"
   ]
  },
  {
   "cell_type": "code",
   "execution_count": 220,
   "metadata": {
    "collapsed": false
   },
   "outputs": [
    {
     "data": {
      "text/plain": [
       "['can',\n",
       " 'be',\n",
       " 'run',\n",
       " 'from',\n",
       " 'outside',\n",
       " 'of',\n",
       " 'bin',\n",
       " 'fixed',\n",
       " 'multi',\n",
       " 'line',\n",
       " 'issue']"
      ]
     },
     "execution_count": 220,
     "metadata": {},
     "output_type": "execute_result"
    }
   ],
   "source": [
    "words"
   ]
  },
  {
   "cell_type": "code",
   "execution_count": 227,
   "metadata": {
    "collapsed": false
   },
   "outputs": [
    {
     "data": {
      "text/plain": [
       "numpy.ndarray"
      ]
     },
     "execution_count": 227,
     "metadata": {},
     "output_type": "execute_result"
    }
   ],
   "source": [
    "from sklearn import datasets\n",
    "iris = datasets.load_iris()\n",
    "type(iris.target)"
   ]
  },
  {
   "cell_type": "code",
   "execution_count": 229,
   "metadata": {
    "collapsed": true
   },
   "outputs": [],
   "source": [
    "from nltk.stem.porter import *\n",
    "stemmer = PorterStemmer()\n",
    "plurals = ['caresses', 'flies', 'dies', 'mules', 'denied',\n",
    "            'died', 'agreed', 'owned', 'humbled', 'sized',\n",
    "            'meeting', 'stating', 'siezing', 'itemization',\n",
    "            'sensational', 'traditional', 'reference', 'colonizer',\n",
    "            'plotted']\n",
    "singles = [stemmer.stem(plural) for plural in plurals]\n"
   ]
  },
  {
   "cell_type": "code",
   "execution_count": 233,
   "metadata": {
    "collapsed": false
   },
   "outputs": [
    {
     "name": "stdout",
     "output_type": "stream",
     "text": [
      "caresses caress\n",
      "flies fli\n",
      "dies die\n",
      "mules mule\n",
      "denied deni\n",
      "died die\n"
     ]
    }
   ],
   "source": [
    "for i in range(6):\n",
    "    print plurals[i],singles[i]\n"
   ]
  },
  {
   "cell_type": "code",
   "execution_count": null,
   "metadata": {
    "collapsed": true
   },
   "outputs": [],
   "source": []
  }
 ],
 "metadata": {
  "kernelspec": {
   "display_name": "Python 2",
   "language": "python",
   "name": "python2"
  },
  "language_info": {
   "codemirror_mode": {
    "name": "ipython",
    "version": 2
   },
   "file_extension": ".py",
   "mimetype": "text/x-python",
   "name": "python",
   "nbconvert_exporter": "python",
   "pygments_lexer": "ipython2",
   "version": "2.7.10"
  }
 },
 "nbformat": 4,
 "nbformat_minor": 0
}
