{
 "cells": [
  {
   "cell_type": "code",
   "execution_count": 2,
   "metadata": {
    "collapsed": false
   },
   "outputs": [],
   "source": [
    "import numpy as np\n",
    "import pandas as pd\n",
    "from sklearn.ensemble import GradientBoostingRegressor\n",
    "from sklearn.ensemble import GradientBoostingClassifier\n",
    "from sklearn.ensemble import RandomForestRegressor\n",
    "from sklearn.linear_model import LinearRegression\n",
    "import seaborn as sns\n",
    "import matplotlib.pyplot as plt\n",
    "from string import letters\n",
    "%matplotlib inline\n",
    "\n",
    "sns.set(style=\"white\")\n",
    "\n",
    "# Read a dataset\n",
    "d=pd.read_csv('training_set.csv',header=None,index_col=False)\n",
    "\n",
    "#d.iloc[:,range(40)+[58]]\n",
    "d.columns = ['id']+range(60)\n",
    "d.index = d['id']\n",
    "d=d.drop('id',1)\n",
    "d_full=d"
   ]
  },
  {
   "cell_type": "code",
   "execution_count": 6,
   "metadata": {
    "collapsed": false,
    "scrolled": false
   },
   "outputs": [
    {
     "data": {
      "image/png": "[encoded data removed]",
      "text/plain": [
       "<matplotlib.figure.Figure at 0x7ff9b0f3d950>"
      ]
     },
     "metadata": {},
     "output_type": "display_data"
    }
   ],
   "source": [
    "# Compute the correlation matrix\n",
    "corr = d.ix[:,range(40)+[57,59]].corr()\n",
    "corr = corr.ix[[57,59],[1,3,17,21,23,37,5,7,19,25,27,39]]\n",
    "corr.index=['Pushes_Aug','Watches_Aug']\n",
    "# Generate a mask for the upper triangle\n",
    "#mask = np.zeros_like(corr, dtype=np.bool)\n",
    "#mask[np.triu_indices_from(mask)] = True\n",
    "#mask[0:40,:] = True\n",
    "#mask[:,40:] = True\n",
    "\n",
    "# Set up the matplotlib figure\n",
    "f, ax = plt.subplots(figsize=(11, 9))\n",
    "\n",
    "# Generate a custom diverging colormap\n",
    "cmap = sns.diverging_palette(220, 10, as_cmap=True)\n",
    "\n",
    "# Draw the heatmap with the mask and correct aspect ratio\n",
    "sns.heatmap(corr, cmap=cmap, #vmax=.5,\n",
    "            square=True, #xticklabels=2, yticklabels=2,\n",
    "            linewidths=.5, cbar_kws={\"shrink\": .5}, ax=ax)\n",
    "\n",
    "f.savefig('corr.pdf')"
   ]
  },
  {
   "cell_type": "code",
   "execution_count": 8,
   "metadata": {
    "collapsed": false
   },
   "outputs": [
    {
     "data": {
      "text/html": [
       "<div>\n",
       "<table border=\"1\" class=\"dataframe\">\n",
       "  <thead>\n",
       "    <tr style=\"text-align: right;\">\n",
       "      <th></th>\n",
       "      <th>0</th>\n",
       "      <th>1</th>\n",
       "      <th>2</th>\n",
       "      <th>3</th>\n",
       "      <th>4</th>\n",
       "      <th>5</th>\n",
       "      <th>6</th>\n",
       "      <th>7</th>\n",
       "      <th>8</th>\n",
       "      <th>9</th>\n",
       "      <th>...</th>\n",
       "      <th>32</th>\n",
       "      <th>33</th>\n",
       "      <th>34</th>\n",
       "      <th>35</th>\n",
       "      <th>36</th>\n",
       "      <th>37</th>\n",
       "      <th>38</th>\n",
       "      <th>39</th>\n",
       "      <th>57</th>\n",
       "      <th>59</th>\n",
       "    </tr>\n",
       "  </thead>\n",
       "  <tbody>\n",
       "    <tr>\n",
       "      <th>57</th>\n",
       "      <td>0.026523</td>\n",
       "      <td>0.382432</td>\n",
       "      <td>0.029418</td>\n",
       "      <td>0.381757</td>\n",
       "      <td>0.019768</td>\n",
       "      <td>0.004132</td>\n",
       "      <td>-0.000069</td>\n",
       "      <td>0.057001</td>\n",
       "      <td>0.022142</td>\n",
       "      <td>0.008306</td>\n",
       "      <td>...</td>\n",
       "      <td>0.003134</td>\n",
       "      <td>0.084423</td>\n",
       "      <td>0.084075</td>\n",
       "      <td>0.036050</td>\n",
       "      <td>0.062260</td>\n",
       "      <td>0.837743</td>\n",
       "      <td>0.000699</td>\n",
       "      <td>0.004328</td>\n",
       "      <td>1.000000</td>\n",
       "      <td>0.007966</td>\n",
       "    </tr>\n",
       "    <tr>\n",
       "      <th>59</th>\n",
       "      <td>0.029673</td>\n",
       "      <td>-0.002318</td>\n",
       "      <td>-0.000156</td>\n",
       "      <td>-0.001590</td>\n",
       "      <td>-0.002688</td>\n",
       "      <td>0.174392</td>\n",
       "      <td>0.014038</td>\n",
       "      <td>0.176788</td>\n",
       "      <td>0.151318</td>\n",
       "      <td>0.072125</td>\n",
       "      <td>...</td>\n",
       "      <td>0.010951</td>\n",
       "      <td>0.121518</td>\n",
       "      <td>0.126156</td>\n",
       "      <td>0.063244</td>\n",
       "      <td>0.087799</td>\n",
       "      <td>-0.000783</td>\n",
       "      <td>0.003251</td>\n",
       "      <td>0.593882</td>\n",
       "      <td>0.007966</td>\n",
       "      <td>1.000000</td>\n",
       "    </tr>\n",
       "  </tbody>\n",
       "</table>\n",
       "<p>2 rows × 42 columns</p>\n",
       "</div>"
      ],
      "text/plain": [
       "          0         1         2         3         4         5         6   \\\n",
       "57  0.026523  0.382432  0.029418  0.381757  0.019768  0.004132 -0.000069   \n",
       "59  0.029673 -0.002318 -0.000156 -0.001590 -0.002688  0.174392  0.014038   \n",
       "\n",
       "          7         8         9     ...           32        33        34  \\\n",
       "57  0.057001  0.022142  0.008306    ...     0.003134  0.084423  0.084075   \n",
       "59  0.176788  0.151318  0.072125    ...     0.010951  0.121518  0.126156   \n",
       "\n",
       "          35        36        37        38        39        57        59  \n",
       "57  0.036050  0.062260  0.837743  0.000699  0.004328  1.000000  0.007966  \n",
       "59  0.063244  0.087799 -0.000783  0.003251  0.593882  0.007966  1.000000  \n",
       "\n",
       "[2 rows x 42 columns]"
      ]
     },
     "execution_count": 8,
     "metadata": {},
     "output_type": "execute_result"
    }
   ],
   "source": [
    "corr.ix[57:59,[1,3,]]"
   ]
  },
  {
   "cell_type": "code",
   "execution_count": 10,
   "metadata": {
    "collapsed": false
   },
   "outputs": [
    {
     "data": {
      "text/plain": [
       "1     0.382432\n",
       "3     0.381757\n",
       "17    0.626436\n",
       "21    0.315586\n",
       "23    0.363316\n",
       "37    0.837743\n",
       "57    1.000000\n",
       "Name: 57, dtype: float64"
      ]
     },
     "execution_count": 10,
     "metadata": {},
     "output_type": "execute_result"
    }
   ],
   "source": [
    "corr = d.ix[:,range(40)+[57,59]].corr()\n",
    "corr.ix[57,corr.ix[57,:]>0.2]\n"
   ]
  },
  {
   "cell_type": "code",
   "execution_count": 2,
   "metadata": {
    "collapsed": false
   },
   "outputs": [
    {
     "name": "stdout",
     "output_type": "stream",
     "text": [
      "6792\n"
     ]
    }
   ],
   "source": [
    "## Train something\n",
    "\n",
    "#dataset is randomized already, so take first half for training, second half for testing\n",
    "#first remove anomalous number of commits\n",
    "\n",
    "jun_tot=d.ix[:,0:20].sum(1)\n",
    "jul_tot=d.ix[:,20:40].sum(1)\n",
    "aug_tot=d.ix[:,40:60].sum(1)\n",
    "\n",
    "quality_repo=jun_tot&jul_tot\n",
    "\n",
    "event_req=((d_full.ix[:,range(40)]>0).sum(1)>7) & (d_full.ix[:,[13,14,15,33,34,35]].sum(1)>=2)\n",
    "\n",
    "d=d_full.ix[(event_req) & (jun_tot>=100) & (jul_tot>=100),:]\n",
    "#d=d_full\n",
    "\n",
    "num_entries=d.shape[0]\n",
    "print num_entries\n",
    "row_index=list(d.index)\n",
    "training_rows = row_index[:num_entries/2]\n",
    "testing_rows = row_index[num_entries/2:]\n",
    "\n",
    "#first 40 columns are the predictors of the model\n",
    "predictor_col=range(40) # [1,3,17,21,23,37] \n",
    "#target is the number of pushes in August\n",
    "target_col=[59]\n",
    "\n",
    "#Make training and testing sets\n",
    "X_train=d.ix[training_rows,predictor_col]\n",
    "#y_train=d.ix[training_rows,40:60].sum(1)\n",
    "y_train=d.ix[training_rows,target_col]\n",
    "y_train=np.array(y_train.transpose())[0]\n",
    "\n",
    "X_test=d.ix[testing_rows,predictor_col]\n",
    "#y_test=d.ix[testing_rows,40:60].sum(1)\n",
    "y_test=d.ix[testing_rows,target_col]\n",
    "y_test=np.array(y_test.transpose())[0]\n"
   ]
  },
  {
   "cell_type": "code",
   "execution_count": 3,
   "metadata": {
    "collapsed": false
   },
   "outputs": [
    {
     "data": {
      "text/plain": [
       "GradientBoostingRegressor(alpha=0.9, init=None, learning_rate=0.1, loss='ls',\n",
       "             max_depth=4, max_features=None, max_leaf_nodes=None,\n",
       "             min_samples_leaf=1, min_samples_split=1,\n",
       "             min_weight_fraction_leaf=0.0, n_estimators=1000,\n",
       "             random_state=None, subsample=1.0, verbose=0, warm_start=False)"
      ]
     },
     "execution_count": 3,
     "metadata": {},
     "output_type": "execute_result"
    }
   ],
   "source": [
    "# Fit regression model\n",
    "params = {'n_estimators': 1000, 'max_depth': 4, 'min_samples_split': 1,\n",
    "          'learning_rate': 0.1, 'loss': 'ls'}\n",
    "clf = GradientBoostingRegressor(**params)\n",
    "\n",
    "clf.fit(X_train, y_train)"
   ]
  },
  {
   "cell_type": "code",
   "execution_count": 20,
   "metadata": {
    "collapsed": false
   },
   "outputs": [
    {
     "data": {
      "text/plain": [
       "LinearRegression(copy_X=True, fit_intercept=True, n_jobs=1, normalize=False)"
      ]
     },
     "execution_count": 20,
     "metadata": {},
     "output_type": "execute_result"
    }
   ],
   "source": [
    "# Fit Linear model\n",
    "\n",
    "lin_reg = LinearRegression()\n",
    "lin_reg.fit(X_train.ix[:,[13,14,17,33,34,37]], y_train)\n",
    "#lin_reg.fit(X_train.ix[:,[9,19,29,39]], y_train)\n"
   ]
  },
  {
   "cell_type": "code",
   "execution_count": 342,
   "metadata": {
    "collapsed": false
   },
   "outputs": [],
   "source": [
    "# Fit GLM Model\n",
    "import statsmodels.api as sm\n",
    "\n",
    "poisson_model = sm.GLM(y_train, X_train.ix[:,[17,37]], family=sm.families.Gamma())\n",
    "poisson_result = poisson_model.fit()\n"
   ]
  },
  {
   "cell_type": "code",
   "execution_count": 297,
   "metadata": {
    "collapsed": false
   },
   "outputs": [
    {
     "data": {
      "text/plain": [
       "RandomForestRegressor(bootstrap=True, criterion='mse', max_depth=6,\n",
       "           max_features='auto', max_leaf_nodes=None, min_samples_leaf=1,\n",
       "           min_samples_split=2, min_weight_fraction_leaf=0.0,\n",
       "           n_estimators=1000, n_jobs=2, oob_score=False, random_state=None,\n",
       "           verbose=0, warm_start=False)"
      ]
     },
     "execution_count": 297,
     "metadata": {},
     "output_type": "execute_result"
    }
   ],
   "source": [
    "# Fit RandomForest\n",
    "rf=RandomForestRegressor(n_estimators=1000, min_samples_split=2, n_jobs=2, max_depth=6)\n",
    "rf.fit(X_train, y_train)\n"
   ]
  },
  {
   "cell_type": "code",
   "execution_count": 21,
   "metadata": {
    "collapsed": false
   },
   "outputs": [
    {
     "name": "stdout",
     "output_type": "stream",
     "text": [
      "MSE: 3699.3047\n",
      "MSE: 3895.4964\n",
      "MSE: 3167.6331\n",
      "MSE: 2786.4785\n"
     ]
    }
   ],
   "source": [
    "from sklearn.metrics import mean_squared_error\n",
    "res1=clf.predict(X_test)\n",
    "res1[res1<0]=0\n",
    "res2=lin_reg.predict(X_test.ix[:,[13,14,17,33,34,37]])\n",
    "#res2=lin_reg.predict(X_test.ix[:,[9,19,29,39]])\n",
    "res2[res2<0]=0\n",
    "res3=X_test.ix[:,37]\n",
    "#res3=X_test.ix[:,39]\n",
    "res=(res1+res2+res3)/3.\n",
    "mse = mean_squared_error(y_test, clf.predict(X_test))\n",
    "print(\"MSE: %.4f\" % mse)\n",
    "mse = mean_squared_error(y_test, lin_reg.predict(X_test.ix[:,[13,14,17,33,34,37]]))\n",
    "#mse = mean_squared_error(y_test, lin_reg.predict(X_test.ix[:,[9,19,29,39]]))\n",
    "print(\"MSE: %.4f\" % mse)\n",
    "mse = mean_squared_error(y_test, X_test.ix[:,[37]])\n",
    "#mse = mean_squared_error(y_test, X_test.ix[:,[39]])\n",
    "print(\"MSE: %.4f\" % mse)\n",
    "mse = mean_squared_error(y_test, res)\n",
    "print(\"MSE: %.4f\" % mse)"
   ]
  },
  {
   "cell_type": "code",
   "execution_count": 664,
   "metadata": {
    "collapsed": false
   },
   "outputs": [
    {
     "data": {
      "text/plain": [
       "['linearregression_pushes.pkl',\n",
       " 'linearregression_pushes.pkl_01.npy',\n",
       " 'linearregression_pushes.pkl_02.npy']"
      ]
     },
     "execution_count": 664,
     "metadata": {},
     "output_type": "execute_result"
    }
   ],
   "source": [
    "# Save the work\n",
    "from sklearn.externals import joblib\n",
    "joblib.dump(clf,'gradientboostedregression_pushes.pkl')\n",
    "joblib.dump(lin_reg,'linearregression_pushes.pkl')"
   ]
  },
  {
   "cell_type": "code",
   "execution_count": 38,
   "metadata": {
    "collapsed": false
   },
   "outputs": [
    {
     "data": {
      "image/png": "[encoded data removed]",
      "text/plain": [
       "<matplotlib.figure.Figure at 0x7ffb1a2b6d50>"
      ]
     },
     "metadata": {},
     "output_type": "display_data"
    }
   ],
   "source": [
    "del fig, ax1\n",
    "fig = plt.figure(figsize=(10, 10))\n",
    "ax1 = fig.add_subplot(111)\n",
    "\n",
    "## the data\n",
    "N = len(y_test)\n",
    "x = y_test\n",
    "#y=res\n",
    "#y = y_test-poisson_results.predict(X_test)\n",
    "y = clf.predict(X_test)\n",
    "#y=rf.predict(X_train)\n",
    "#y = lin_reg.predict(X_test.ix[:,[13,14,17,33,34,37]])\n",
    "#y=poisson_result.predict(X_test.ix[testing_rows,[17,37]])\n",
    "\n",
    "\n",
    "#jun=np.array(X_test.ix[:,[17]].transpose())[0]\n",
    "#jul=np.array(X_test.ix[:,[37]].transpose())[0]\n",
    "#aug=y_test\n",
    "jun=d.ix[testing_rows,0:20].sum(1)\n",
    "jul=d.ix[testing_rows,20:40].sum(1)\n",
    "aug=d.ix[testing_rows,40:60].sum(1)\n",
    "\n",
    "## left panel\n",
    "ax1.scatter(x,y,color='blue',s=10,edgecolor='none')\n",
    "#ax1.scatter(jun,aug,color='blue',s=5,edgecolor='none')\n",
    "#ax1.scatter(jul,aug,color='green',s=5,edgecolor='none')\n",
    "#ax1.set_aspect(1./ax1.get_data_ratio()) # make axes square\n",
    "ax1.plot([0,1000],[0,1000], \"r--\",label='good',color='green')\n",
    "ax1.set_ylim([0,1000])\n",
    "ax1.set_xlim([0,1000])\n",
    "plt.xlabel('Watches in August')\n",
    "plt.ylabel('Predicted Watches in August')\n",
    "plt.show()\n"
   ]
  },
  {
   "cell_type": "code",
   "execution_count": 570,
   "metadata": {
    "collapsed": false
   },
   "outputs": [
    {
     "data": {
      "image/png": "[encoded data removed]",
      "text/plain": [
       "<matplotlib.figure.Figure at 0x7fbc61e30ad0>"
      ]
     },
     "metadata": {},
     "output_type": "display_data"
    }
   ],
   "source": [
    "#Try to find anamolies\n",
    "anom=d.ix[training_rows,39]*2+10<d.ix[training_rows,59]\n",
    "not_anom=d.ix[training_rows,39]*2+10>d.ix[training_rows,59]\n",
    "\n",
    "\n",
    "fig = plt.figure()\n",
    "ax = fig.add_subplot(111)\n",
    "\n",
    "col=39\n",
    "numBins = 50\n",
    "plt.gca().set_yscale(\"log\")\n",
    "ax.hist(np.array(X_train.ix[not_anom,col]),bins=range(0,100),color='blue',alpha=0.5)\n",
    "ax.hist(np.array(X_train.ix[anom,col]),bins=range(0,100),color='red',alpha=1.0)\n",
    "#ax.set_xlim([0,2000])\n",
    "plt.show()\n"
   ]
  },
  {
   "cell_type": "code",
   "execution_count": 586,
   "metadata": {
    "collapsed": false
   },
   "outputs": [
    {
     "name": "stdout",
     "output_type": "stream",
     "text": [
      "290\n",
      "49\n",
      "11\n"
     ]
    }
   ],
   "source": [
    "#Calculate classifier\n",
    "anom=d.ix[training_rows,39]*2+10<d.ix[training_rows,59]\n",
    "not_anom=d.ix[training_rows,39]*2+10>d.ix[training_rows,59]\n",
    "\n",
    "anom_pred=(d.ix[training_rows,0]<5)&(d.ix[training_rows,1]<10)&(d.ix[training_rows,2]<5)&(d.ix[training_rows,3]<10)&(d.ix[training_rows,4]<1)&(d.ix[training_rows,5]<15)&(d.ix[training_rows,6]<5)&(d.ix[training_rows,8]<20)&(d.ix[training_rows,9]<20)&(d.ix[training_rows,10]<5)&(d.ix[training_rows,11]<3)&(d.ix[training_rows,12]<2)&(d.ix[training_rows,13]<20)&(d.ix[training_rows,14]<20)&(d.ix[training_rows,15]<3)&(d.ix[training_rows,16]<10)&(d.ix[training_rows,17]<50)&(d.ix[training_rows,18]<5)&(d.ix[training_rows,20]<5)&(d.ix[training_rows,21]<20)&(d.ix[training_rows,22]<5)&(d.ix[training_rows,23]<10)&(d.ix[training_rows,24]<2)&(d.ix[training_rows,25]<20)&(d.ix[training_rows,26]<10)&(d.ix[training_rows,28]<30)&(d.ix[training_rows,30]<5)&(d.ix[training_rows,31]<3)&(d.ix[training_rows,32]<3)&(d.ix[training_rows,33]<30)&(d.ix[training_rows,34]<30)&(d.ix[training_rows,35]<4)&(d.ix[training_rows,36]<20)&(d.ix[training_rows,37]<50)&(d.ix[training_rows,38]<5)\n",
    "\n",
    "print sum(anom_pred)\n",
    "print sum(anom)\n",
    "print sum((anom_pred==anom) &(anom==1))\n"
   ]
  },
  {
   "cell_type": "code",
   "execution_count": 201,
   "metadata": {
    "collapsed": false
   },
   "outputs": [
    {
     "data": {
      "image/png": "[encoded data removed]",
      "text/plain": [
       "<matplotlib.figure.Figure at 0x7fbc61dec490>"
      ]
     },
     "metadata": {},
     "output_type": "display_data"
    },
    {
     "name": "stdout",
     "output_type": "stream",
     "text": [
      "21756\n"
     ]
    },
    {
     "ename": "TypeError",
     "evalue": "'Series' objects are mutable, thus they cannot be hashed",
     "output_type": "error",
     "traceback": [
      "\u001b[1;31m---------------------------------------------------------------------------\u001b[0m",
      "\u001b[1;31mTypeError\u001b[0m                                 Traceback (most recent call last)",
      "\u001b[1;32m<ipython-input-201-fa8832a4096a>\u001b[0m in \u001b[0;36m<module>\u001b[1;34m()\u001b[0m\n\u001b[0;32m      7\u001b[0m \u001b[0mplt\u001b[0m\u001b[1;33m.\u001b[0m\u001b[0mshow\u001b[0m\u001b[1;33m(\u001b[0m\u001b[1;33m)\u001b[0m\u001b[1;33m\u001b[0m\u001b[0m\n\u001b[0;32m      8\u001b[0m \u001b[1;32mprint\u001b[0m \u001b[0mmax\u001b[0m\u001b[1;33m(\u001b[0m\u001b[0mlist\u001b[0m\u001b[1;33m(\u001b[0m\u001b[0md\u001b[0m\u001b[1;33m.\u001b[0m\u001b[0mix\u001b[0m\u001b[1;33m[\u001b[0m\u001b[0mtraining_rows\u001b[0m\u001b[1;33m,\u001b[0m\u001b[1;36m57\u001b[0m\u001b[1;33m]\u001b[0m\u001b[1;33m)\u001b[0m\u001b[1;33m)\u001b[0m\u001b[1;33m\u001b[0m\u001b[0m\n\u001b[1;32m----> 9\u001b[1;33m \u001b[1;32mprint\u001b[0m \u001b[0md\u001b[0m\u001b[1;33m[\u001b[0m\u001b[0md\u001b[0m\u001b[1;33m.\u001b[0m\u001b[0mix\u001b[0m\u001b[1;33m[\u001b[0m\u001b[0mtraining_rows\u001b[0m\u001b[1;33m,\u001b[0m\u001b[1;36m57\u001b[0m\u001b[1;33m]\u001b[0m \u001b[1;33m>\u001b[0m\u001b[1;36m20000\u001b[0m\u001b[1;33m,\u001b[0m\u001b[1;33m:\u001b[0m\u001b[1;33m]\u001b[0m\u001b[1;33m.\u001b[0m\u001b[0mindex\u001b[0m\u001b[1;33m\u001b[0m\u001b[0m\n\u001b[0m",
      "\u001b[1;32m/home/hebda/anaconda/lib/python2.7/site-packages/pandas/core/frame.pyc\u001b[0m in \u001b[0;36m__getitem__\u001b[1;34m(self, key)\u001b[0m\n\u001b[0;32m   1795\u001b[0m             \u001b[1;32mreturn\u001b[0m \u001b[0mself\u001b[0m\u001b[1;33m.\u001b[0m\u001b[0m_getitem_multilevel\u001b[0m\u001b[1;33m(\u001b[0m\u001b[0mkey\u001b[0m\u001b[1;33m)\u001b[0m\u001b[1;33m\u001b[0m\u001b[0m\n\u001b[0;32m   1796\u001b[0m         \u001b[1;32melse\u001b[0m\u001b[1;33m:\u001b[0m\u001b[1;33m\u001b[0m\u001b[0m\n\u001b[1;32m-> 1797\u001b[1;33m             \u001b[1;32mreturn\u001b[0m \u001b[0mself\u001b[0m\u001b[1;33m.\u001b[0m\u001b[0m_getitem_column\u001b[0m\u001b[1;33m(\u001b[0m\u001b[0mkey\u001b[0m\u001b[1;33m)\u001b[0m\u001b[1;33m\u001b[0m\u001b[0m\n\u001b[0m\u001b[0;32m   1798\u001b[0m \u001b[1;33m\u001b[0m\u001b[0m\n\u001b[0;32m   1799\u001b[0m     \u001b[1;32mdef\u001b[0m \u001b[0m_getitem_column\u001b[0m\u001b[1;33m(\u001b[0m\u001b[0mself\u001b[0m\u001b[1;33m,\u001b[0m \u001b[0mkey\u001b[0m\u001b[1;33m)\u001b[0m\u001b[1;33m:\u001b[0m\u001b[1;33m\u001b[0m\u001b[0m\n",
      "\u001b[1;32m/home/hebda/anaconda/lib/python2.7/site-packages/pandas/core/frame.pyc\u001b[0m in \u001b[0;36m_getitem_column\u001b[1;34m(self, key)\u001b[0m\n\u001b[0;32m   1802\u001b[0m         \u001b[1;31m# get column\u001b[0m\u001b[1;33m\u001b[0m\u001b[1;33m\u001b[0m\u001b[0m\n\u001b[0;32m   1803\u001b[0m         \u001b[1;32mif\u001b[0m \u001b[0mself\u001b[0m\u001b[1;33m.\u001b[0m\u001b[0mcolumns\u001b[0m\u001b[1;33m.\u001b[0m\u001b[0mis_unique\u001b[0m\u001b[1;33m:\u001b[0m\u001b[1;33m\u001b[0m\u001b[0m\n\u001b[1;32m-> 1804\u001b[1;33m             \u001b[1;32mreturn\u001b[0m \u001b[0mself\u001b[0m\u001b[1;33m.\u001b[0m\u001b[0m_get_item_cache\u001b[0m\u001b[1;33m(\u001b[0m\u001b[0mkey\u001b[0m\u001b[1;33m)\u001b[0m\u001b[1;33m\u001b[0m\u001b[0m\n\u001b[0m\u001b[0;32m   1805\u001b[0m \u001b[1;33m\u001b[0m\u001b[0m\n\u001b[0;32m   1806\u001b[0m         \u001b[1;31m# duplicate columns & possible reduce dimensionaility\u001b[0m\u001b[1;33m\u001b[0m\u001b[1;33m\u001b[0m\u001b[0m\n",
      "\u001b[1;32m/home/hebda/anaconda/lib/python2.7/site-packages/pandas/core/generic.pyc\u001b[0m in \u001b[0;36m_get_item_cache\u001b[1;34m(self, item)\u001b[0m\n\u001b[0;32m   1080\u001b[0m         \u001b[1;34m\"\"\" return the cached item, item represents a label indexer \"\"\"\u001b[0m\u001b[1;33m\u001b[0m\u001b[0m\n\u001b[0;32m   1081\u001b[0m         \u001b[0mcache\u001b[0m \u001b[1;33m=\u001b[0m \u001b[0mself\u001b[0m\u001b[1;33m.\u001b[0m\u001b[0m_item_cache\u001b[0m\u001b[1;33m\u001b[0m\u001b[0m\n\u001b[1;32m-> 1082\u001b[1;33m         \u001b[0mres\u001b[0m \u001b[1;33m=\u001b[0m \u001b[0mcache\u001b[0m\u001b[1;33m.\u001b[0m\u001b[0mget\u001b[0m\u001b[1;33m(\u001b[0m\u001b[0mitem\u001b[0m\u001b[1;33m)\u001b[0m\u001b[1;33m\u001b[0m\u001b[0m\n\u001b[0m\u001b[0;32m   1083\u001b[0m         \u001b[1;32mif\u001b[0m \u001b[0mres\u001b[0m \u001b[1;32mis\u001b[0m \u001b[0mNone\u001b[0m\u001b[1;33m:\u001b[0m\u001b[1;33m\u001b[0m\u001b[0m\n\u001b[0;32m   1084\u001b[0m             \u001b[0mvalues\u001b[0m \u001b[1;33m=\u001b[0m \u001b[0mself\u001b[0m\u001b[1;33m.\u001b[0m\u001b[0m_data\u001b[0m\u001b[1;33m.\u001b[0m\u001b[0mget\u001b[0m\u001b[1;33m(\u001b[0m\u001b[0mitem\u001b[0m\u001b[1;33m)\u001b[0m\u001b[1;33m\u001b[0m\u001b[0m\n",
      "\u001b[1;32m/home/hebda/anaconda/lib/python2.7/site-packages/pandas/core/generic.pyc\u001b[0m in \u001b[0;36m__hash__\u001b[1;34m(self)\u001b[0m\n\u001b[0;32m    661\u001b[0m     \u001b[1;32mdef\u001b[0m \u001b[0m__hash__\u001b[0m\u001b[1;33m(\u001b[0m\u001b[0mself\u001b[0m\u001b[1;33m)\u001b[0m\u001b[1;33m:\u001b[0m\u001b[1;33m\u001b[0m\u001b[0m\n\u001b[0;32m    662\u001b[0m         raise TypeError('{0!r} objects are mutable, thus they cannot be'\n\u001b[1;32m--> 663\u001b[1;33m                         ' hashed'.format(self.__class__.__name__))\n\u001b[0m\u001b[0;32m    664\u001b[0m \u001b[1;33m\u001b[0m\u001b[0m\n\u001b[0;32m    665\u001b[0m     \u001b[1;32mdef\u001b[0m \u001b[0m__iter__\u001b[0m\u001b[1;33m(\u001b[0m\u001b[0mself\u001b[0m\u001b[1;33m)\u001b[0m\u001b[1;33m:\u001b[0m\u001b[1;33m\u001b[0m\u001b[0m\n",
      "\u001b[1;31mTypeError\u001b[0m: 'Series' objects are mutable, thus they cannot be hashed"
     ]
    }
   ],
   "source": [
    "fig = plt.figure()\n",
    "ax = fig.add_subplot(111)\n",
    "\n",
    "numBins = 2000\n",
    "ax.hist(list(d.ix[testing_rows,57]),numBins,color='green',alpha=0.8)\n",
    "ax.set_xlim([0,2000])\n",
    "plt.show()\n",
    "print max(list(d.ix[training_rows,57]))\n",
    "print d[d.ix[training_rows,57] >20000,:].index"
   ]
  },
  {
   "cell_type": "code",
   "execution_count": 252,
   "metadata": {
    "collapsed": false
   },
   "outputs": [
    {
     "data": {
      "text/plain": [
       "(array([  489.,   760.,  3816.,  1856.,  2356.,  2174.,  2816.,  2325.,\n",
       "         2305.,  2174.,  2464.,  2307.,  2288.,  2491.,  2461.,  2370.,\n",
       "         2376.,  2229.,  2022.,  1760.,  1513.,  1225.,  1119.,   853.,\n",
       "          665.,   912.]),\n",
       " array([  0.,   1.,   2.,   3.,   4.,   5.,   6.,   7.,   8.,   9.,  10.,\n",
       "         11.,  12.,  13.,  14.,  15.,  16.,  17.,  18.,  19.,  20.,  21.,\n",
       "         22.,  23.,  24.,  25.,  26.]),\n",
       " <a list of 26 Patch objects>)"
      ]
     },
     "execution_count": 252,
     "metadata": {},
     "output_type": "execute_result"
    },
    {
     "data": {
      "image/png": "[encoded data removed]",
      "text/plain": [
       "<matplotlib.figure.Figure at 0x7fbc657f4090>"
      ]
     },
     "metadata": {},
     "output_type": "display_data"
    }
   ],
   "source": [
    "#d_full.ix[list((d_full.ix[:,57] >1000)&(d_full.ix[:,41] >0)&(d_full.ix[:,53] >0)),40:60].transpose()\n",
    "#plt.hist(list((d_full.ix[:,[0,1,2,3,4,7,8,9,13,14,16,17,19,20,21,22,23,24,27,28,29,33,34,36,37,39]]>0).sum(1)),26,[0,26])\n",
    "plt.hist(list((d_full.ix[:,range(40)]>0).sum(1)),26,[0,26])\n"
   ]
  },
  {
   "cell_type": "code",
   "execution_count": 312,
   "metadata": {
    "collapsed": true
   },
   "outputs": [],
   "source": [
    "import statsmodels.api as sm\n",
    "data = sm.datasets.scotland.load()\n",
    "data.exog = sm.add_constant(data.exog)\n",
    "\n",
    "# Instantiate a gamma family model with the default link function.\n",
    "gamma_model = sm.GLM(data.endog, data.exog, family=sm.families.Gamma())\n",
    "gamma_results = gamma_model.fit()"
   ]
  },
  {
   "cell_type": "code",
   "execution_count": 72,
   "metadata": {
    "collapsed": false
   },
   "outputs": [
    {
     "name": "stdout",
     "output_type": "stream",
     "text": [
      "P,R,F1,a,b,c = 0.03,0.00,0.01,1.0,0,0\n",
      "P,R,F1,a,b,c = 0.03,0.00,0.01,1.0,0,20\n",
      "P,R,F1,a,b,c = 0.03,0.00,0.01,1.0,0,40\n",
      "P,R,F1,a,b,c = 0.03,0.00,0.01,1.0,0,60\n",
      "P,R,F1,a,b,c = 0.03,0.00,0.01,1.0,0,80\n",
      "P,R,F1,a,b,c = 0.03,0.00,0.01,1.0,0,100\n",
      "P,R,F1,a,b,c = 0.03,0.00,0.01,1.0,5,0\n",
      "P,R,F1,a,b,c = 0.03,0.00,0.01,1.0,5,20\n",
      "P,R,F1,a,b,c = 0.03,0.00,0.01,1.0,5,40\n",
      "P,R,F1,a,b,c = 0.03,0.00,0.01,1.0,5,60\n",
      "P,R,F1,a,b,c = 0.03,0.00,0.01,1.0,5,80\n",
      "P,R,F1,a,b,c = 0.03,0.00,0.01,1.0,5,100\n",
      "P,R,F1,a,b,c = 0.03,0.00,0.01,1.0,10,0\n",
      "P,R,F1,a,b,c = 0.03,0.00,0.01,1.0,10,20\n",
      "P,R,F1,a,b,c = 0.03,0.00,0.01,1.0,10,40\n",
      "P,R,F1,a,b,c = 0.03,0.00,0.01,1.0,10,60\n",
      "P,R,F1,a,b,c = 0.03,0.00,0.01,1.0,10,80\n",
      "P,R,F1,a,b,c = 0.03,0.00,0.01,1.0,10,100\n",
      "P,R,F1,a,b,c = 0.03,0.00,0.01,1.0,15,0\n",
      "P,R,F1,a,b,c = 0.03,0.00,0.01,1.0,15,20\n",
      "P,R,F1,a,b,c = 0.03,0.00,0.01,1.0,15,40\n",
      "P,R,F1,a,b,c = 0.03,0.00,0.01,1.0,15,60\n",
      "P,R,F1,a,b,c = 0.03,0.00,0.01,1.0,15,80\n",
      "P,R,F1,a,b,c = 0.03,0.00,0.01,1.0,15,100\n",
      "P,R,F1,a,b,c = 0.03,0.00,0.01,1.0,20,0\n",
      "P,R,F1,a,b,c = 0.03,0.00,0.01,1.0,20,20\n",
      "P,R,F1,a,b,c = 0.03,0.00,0.01,1.0,20,40\n",
      "P,R,F1,a,b,c = 0.03,0.00,0.01,1.0,20,60\n",
      "P,R,F1,a,b,c = 0.03,0.00,0.01,1.0,20,80\n",
      "P,R,F1,a,b,c = 0.03,0.00,0.01,1.0,20,100\n",
      "P,R,F1,a,b,c = 0.04,0.00,0.01,1.2,0,0\n",
      "P,R,F1,a,b,c = 0.04,0.00,0.01,1.2,0,20\n",
      "P,R,F1,a,b,c = 0.04,0.00,0.01,1.2,0,40\n",
      "P,R,F1,a,b,c = 0.04,0.00,0.01,1.2,0,60\n",
      "P,R,F1,a,b,c = 0.04,0.00,0.01,1.2,0,80\n",
      "P,R,F1,a,b,c = 0.04,0.00,0.01,1.2,0,100\n",
      "P,R,F1,a,b,c = 0.04,0.00,0.01,1.2,5,0\n",
      "P,R,F1,a,b,c = 0.04,0.00,0.01,1.2,5,20\n",
      "P,R,F1,a,b,c = 0.04,0.00,0.01,1.2,5,40\n",
      "P,R,F1,a,b,c = 0.04,0.00,0.01,1.2,5,60\n",
      "P,R,F1,a,b,c = 0.04,0.00,0.01,1.2,5,80\n",
      "P,R,F1,a,b,c = 0.04,0.00,0.01,1.2,5,100\n",
      "P,R,F1,a,b,c = 0.04,0.00,0.01,1.2,10,0\n",
      "P,R,F1,a,b,c = 0.04,0.00,0.01,1.2,10,20\n",
      "P,R,F1,a,b,c = 0.04,0.00,0.01,1.2,10,40\n",
      "P,R,F1,a,b,c = 0.04,0.00,0.01,1.2,10,60\n",
      "P,R,F1,a,b,c = 0.04,0.00,0.01,1.2,10,80\n",
      "P,R,F1,a,b,c = 0.04,0.00,0.01,1.2,10,100\n",
      "P,R,F1,a,b,c = 0.05,0.00,0.01,1.2,15,0\n",
      "P,R,F1,a,b,c = 0.05,0.00,0.01,1.2,15,20\n",
      "P,R,F1,a,b,c = 0.05,0.00,0.01,1.2,15,40\n",
      "P,R,F1,a,b,c = 0.05,0.00,0.01,1.2,15,60\n",
      "P,R,F1,a,b,c = 0.05,0.00,0.01,1.2,15,80\n",
      "P,R,F1,a,b,c = 0.05,0.00,0.01,1.2,15,100\n",
      "P,R,F1,a,b,c = 0.05,0.00,0.01,1.2,20,0\n",
      "P,R,F1,a,b,c = 0.05,0.00,0.01,1.2,20,20\n",
      "P,R,F1,a,b,c = 0.05,0.00,0.01,1.2,20,40\n",
      "P,R,F1,a,b,c = 0.05,0.00,0.01,1.2,20,60\n",
      "P,R,F1,a,b,c = 0.05,0.00,0.01,1.2,20,80\n",
      "P,R,F1,a,b,c = 0.05,0.00,0.01,1.2,20,100\n",
      "P,R,F1,a,b,c = 0.05,0.00,0.01,1.4,0,0\n",
      "P,R,F1,a,b,c = 0.05,0.00,0.01,1.4,0,20\n",
      "P,R,F1,a,b,c = 0.05,0.00,0.01,1.4,0,40\n",
      "P,R,F1,a,b,c = 0.05,0.00,0.01,1.4,0,60\n",
      "P,R,F1,a,b,c = 0.05,0.00,0.01,1.4,0,80\n",
      "P,R,F1,a,b,c = 0.05,0.00,0.01,1.4,0,100\n",
      "P,R,F1,a,b,c = 0.06,0.00,0.01,1.4,5,0\n",
      "P,R,F1,a,b,c = 0.06,0.00,0.01,1.4,5,20\n",
      "P,R,F1,a,b,c = 0.06,0.00,0.01,1.4,5,40\n",
      "P,R,F1,a,b,c = 0.06,0.00,0.01,1.4,5,60\n",
      "P,R,F1,a,b,c = 0.06,0.00,0.01,1.4,5,80\n",
      "P,R,F1,a,b,c = 0.06,0.00,0.01,1.4,5,100\n",
      "P,R,F1,a,b,c = 0.06,0.00,0.01,1.4,10,0\n",
      "P,R,F1,a,b,c = 0.06,0.00,0.01,1.4,10,20\n",
      "P,R,F1,a,b,c = 0.06,0.00,0.01,1.4,10,40\n",
      "P,R,F1,a,b,c = 0.06,0.00,0.01,1.4,10,60\n",
      "P,R,F1,a,b,c = 0.06,0.00,0.01,1.4,10,80\n",
      "P,R,F1,a,b,c = 0.06,0.00,0.01,1.4,10,100\n",
      "P,R,F1,a,b,c = 0.06,0.00,0.01,1.4,15,0\n",
      "P,R,F1,a,b,c = 0.06,0.00,0.01,1.4,15,20\n",
      "P,R,F1,a,b,c = 0.06,0.00,0.01,1.4,15,40\n",
      "P,R,F1,a,b,c = 0.06,0.00,0.01,1.4,15,60\n",
      "P,R,F1,a,b,c = 0.06,0.00,0.01,1.4,15,80\n",
      "P,R,F1,a,b,c = 0.06,0.00,0.01,1.4,15,100\n",
      "P,R,F1,a,b,c = 0.07,0.00,0.01,1.4,20,0\n",
      "P,R,F1,a,b,c = 0.07,0.00,0.01,1.4,20,20\n",
      "P,R,F1,a,b,c = 0.07,0.00,0.01,1.4,20,40\n",
      "P,R,F1,a,b,c = 0.07,0.00,0.01,1.4,20,60\n",
      "P,R,F1,a,b,c = 0.07,0.00,0.01,1.4,20,80\n",
      "P,R,F1,a,b,c = 0.07,0.00,0.01,1.4,20,100\n",
      "P,R,F1,a,b,c = 0.07,0.00,0.01,1.6,0,0\n",
      "P,R,F1,a,b,c = 0.07,0.00,0.01,1.6,0,20\n",
      "P,R,F1,a,b,c = 0.07,0.00,0.01,1.6,0,40\n",
      "P,R,F1,a,b,c = 0.07,0.00,0.01,1.6,0,60\n",
      "P,R,F1,a,b,c = 0.07,0.00,0.01,1.6,0,80\n",
      "P,R,F1,a,b,c = 0.07,0.00,0.01,1.6,0,100\n",
      "P,R,F1,a,b,c = 0.07,0.00,0.01,1.6,5,0\n",
      "P,R,F1,a,b,c = 0.07,0.00,0.01,1.6,5,20\n",
      "P,R,F1,a,b,c = 0.07,0.00,0.01,1.6,5,40\n",
      "P,R,F1,a,b,c = 0.07,0.00,0.01,1.6,5,60\n",
      "P,R,F1,a,b,c = 0.07,0.00,0.01,1.6,5,80\n",
      "P,R,F1,a,b,c = 0.07,0.00,0.01,1.6,5,100\n",
      "P,R,F1,a,b,c = 0.07,0.00,0.01,1.6,10,0\n",
      "P,R,F1,a,b,c = 0.07,0.00,0.01,1.6,10,20\n",
      "P,R,F1,a,b,c = 0.07,0.00,0.01,1.6,10,40\n",
      "P,R,F1,a,b,c = 0.07,0.00,0.01,1.6,10,60\n",
      "P,R,F1,a,b,c = 0.07,0.00,0.01,1.6,10,80\n",
      "P,R,F1,a,b,c = 0.07,0.00,0.01,1.6,10,100\n",
      "P,R,F1,a,b,c = 0.08,0.00,0.01,1.6,15,0\n",
      "P,R,F1,a,b,c = 0.08,0.00,0.01,1.6,15,20\n",
      "P,R,F1,a,b,c = 0.08,0.00,0.01,1.6,15,40\n",
      "P,R,F1,a,b,c = 0.08,0.00,0.01,1.6,15,60\n",
      "P,R,F1,a,b,c = 0.08,0.00,0.01,1.6,15,80\n",
      "P,R,F1,a,b,c = 0.08,0.00,0.01,1.6,15,100\n",
      "P,R,F1,a,b,c = 0.08,0.00,0.01,1.6,20,0\n",
      "P,R,F1,a,b,c = 0.08,0.00,0.01,1.6,20,20\n",
      "P,R,F1,a,b,c = 0.08,0.00,0.01,1.6,20,40\n",
      "P,R,F1,a,b,c = 0.08,0.00,0.01,1.6,20,60\n",
      "P,R,F1,a,b,c = 0.08,0.00,0.01,1.6,20,80\n",
      "P,R,F1,a,b,c = 0.08,0.00,0.01,1.6,20,100\n",
      "P,R,F1,a,b,c = 0.08,0.00,0.01,1.8,0,0\n",
      "P,R,F1,a,b,c = 0.08,0.00,0.01,1.8,0,20\n",
      "P,R,F1,a,b,c = 0.08,0.00,0.01,1.8,0,40\n",
      "P,R,F1,a,b,c = 0.08,0.00,0.01,1.8,0,60\n",
      "P,R,F1,a,b,c = 0.08,0.00,0.01,1.8,0,80\n",
      "P,R,F1,a,b,c = 0.08,0.00,0.01,1.8,0,100\n",
      "P,R,F1,a,b,c = 0.08,0.00,0.01,1.8,5,0\n",
      "P,R,F1,a,b,c = 0.08,0.00,0.01,1.8,5,20\n",
      "P,R,F1,a,b,c = 0.08,0.00,0.01,1.8,5,40\n",
      "P,R,F1,a,b,c = 0.08,0.00,0.01,1.8,5,60\n",
      "P,R,F1,a,b,c = 0.08,0.00,0.01,1.8,5,80\n",
      "P,R,F1,a,b,c = 0.08,0.00,0.01,1.8,5,100\n",
      "P,R,F1,a,b,c = 0.09,0.00,0.01,1.8,10,0\n",
      "P,R,F1,a,b,c = 0.09,0.00,0.01,1.8,10,20\n",
      "P,R,F1,a,b,c = 0.09,0.00,0.01,1.8,10,40\n",
      "P,R,F1,a,b,c = 0.09,0.00,0.01,1.8,10,60\n",
      "P,R,F1,a,b,c = 0.09,0.00,0.01,1.8,10,80\n",
      "P,R,F1,a,b,c = 0.09,0.00,0.01,1.8,10,100\n",
      "P,R,F1,a,b,c = 0.09,0.00,0.01,1.8,15,0\n",
      "P,R,F1,a,b,c = 0.09,0.00,0.01,1.8,15,20\n",
      "P,R,F1,a,b,c = 0.09,0.00,0.01,1.8,15,40\n",
      "P,R,F1,a,b,c = 0.09,0.00,0.01,1.8,15,60\n",
      "P,R,F1,a,b,c = 0.09,0.00,0.01,1.8,15,80\n",
      "P,R,F1,a,b,c = 0.09,0.00,0.01,1.8,15,100\n",
      "P,R,F1,a,b,c = 0.09,0.00,0.01,1.8,20,0\n",
      "P,R,F1,a,b,c = 0.09,0.00,0.01,1.8,20,20\n",
      "P,R,F1,a,b,c = 0.09,0.00,0.01,1.8,20,40\n",
      "P,R,F1,a,b,c = 0.09,0.00,0.01,1.8,20,60\n",
      "P,R,F1,a,b,c = 0.09,0.00,0.01,1.8,20,80\n",
      "P,R,F1,a,b,c = 0.09,0.00,0.01,1.8,20,100\n",
      "P,R,F1,a,b,c = 0.09,0.00,0.01,2.0,0,0\n",
      "P,R,F1,a,b,c = 0.09,0.00,0.01,2.0,0,20\n",
      "P,R,F1,a,b,c = 0.09,0.00,0.01,2.0,0,40\n",
      "P,R,F1,a,b,c = 0.09,0.00,0.01,2.0,0,60\n",
      "P,R,F1,a,b,c = 0.09,0.00,0.01,2.0,0,80\n",
      "P,R,F1,a,b,c = 0.09,0.00,0.01,2.0,0,100\n",
      "P,R,F1,a,b,c = 0.09,0.00,0.01,2.0,5,0\n",
      "P,R,F1,a,b,c = 0.09,0.00,0.01,2.0,5,20\n",
      "P,R,F1,a,b,c = 0.09,0.00,0.01,2.0,5,40\n",
      "P,R,F1,a,b,c = 0.09,0.00,0.01,2.0,5,60\n",
      "P,R,F1,a,b,c = 0.09,0.00,0.01,2.0,5,80\n",
      "P,R,F1,a,b,c = 0.09,0.00,0.01,2.0,5,100\n",
      "P,R,F1,a,b,c = 0.09,0.00,0.01,2.0,10,0\n",
      "P,R,F1,a,b,c = 0.09,0.00,0.01,2.0,10,20\n",
      "P,R,F1,a,b,c = 0.09,0.00,0.01,2.0,10,40\n",
      "P,R,F1,a,b,c = 0.09,0.00,0.01,2.0,10,60\n",
      "P,R,F1,a,b,c = 0.09,0.00,0.01,2.0,10,80\n",
      "P,R,F1,a,b,c = 0.09,0.00,0.01,2.0,10,100\n",
      "P,R,F1,a,b,c = 0.09,0.00,0.01,2.0,15,0\n",
      "P,R,F1,a,b,c = 0.09,0.00,0.01,2.0,15,20\n",
      "P,R,F1,a,b,c = 0.09,0.00,0.01,2.0,15,40\n",
      "P,R,F1,a,b,c = 0.09,0.00,0.01,2.0,15,60\n",
      "P,R,F1,a,b,c = 0.09,0.00,0.01,2.0,15,80\n",
      "P,R,F1,a,b,c = 0.09,0.00,0.01,2.0,15,100\n",
      "P,R,F1,a,b,c = 0.09,0.00,0.01,2.0,20,0\n",
      "P,R,F1,a,b,c = 0.09,0.00,0.01,2.0,20,20\n",
      "P,R,F1,a,b,c = 0.09,0.00,0.01,2.0,20,40\n",
      "P,R,F1,a,b,c = 0.09,0.00,0.01,2.0,20,60\n",
      "P,R,F1,a,b,c = 0.09,0.00,0.01,2.0,20,80\n",
      "P,R,F1,a,b,c = 0.09,0.00,0.01,2.0,20,100\n"
     ]
    }
   ],
   "source": [
    "y_aug=d.ix[testing_rows,59]\n",
    "y_jul=d.ix[testing_rows,39]\n",
    "y_pred=clf.predict(X_test)\n",
    "\n",
    "for a in [1,1.1,1.2,1.3,1.4,1.5,1.6,1.7,1.8,1.9,2.0]:\n",
    "    for b in [0,2,4,6,8,10,12,14,16,18,20]:\n",
    "        hot_pred=(y_pred>np.where(y_jul < 100, 100, a*y_test+b))\n",
    "        hot_true=(y_aug >np.where(y_jul < 100, 100, a*y_test+b))\n",
    "        \n",
    "        true_pos=(hot_pred==1)&(hot_true==1)\n",
    "        true_neg=(hot_pred==0)&(hot_true==1)\n",
    "        false_pos=(hot_pred==1)&(hot_true==0)\n",
    "        false_neg=(hot_pred==0)&(hot_true==0)\n",
    "        \n",
    "        num_true_pos=0\n",
    "        for i in true_pos:\n",
    "            if i:\n",
    "                num_true_pos+=1\n",
    "        num_true_neg=0\n",
    "        for i in true_neg:\n",
    "            if i:\n",
    "                num_true_neg+=1\n",
    "        num_false_pos=0\n",
    "        for i in false_pos:\n",
    "            if i:\n",
    "                num_false_pos+=1\n",
    "        num_false_neg=0\n",
    "        for i in false_neg:\n",
    "            if i:\n",
    "                num_false_neg+=1\n",
    "\n",
    "        #print \"%d %d %d %d\" % (num_true_pos, num_true_neg, num_false_pos, num_false_neg)\n",
    "        precision=(float(num_true_pos)/(num_true_pos+num_false_pos))\n",
    "        recall=(float(num_true_pos)/(num_true_pos+num_false_neg))\n",
    "        F1 = 2*precision*recall/(precision+recall)\n",
    "        print \"P,R,F1,a,b = %.2f,%.2f,%.2f,%.1f,%d\" % (precision, recall, F1 , a, b)\n",
    "\n"
   ]
  },
  {
   "cell_type": "code",
   "execution_count": 430,
   "metadata": {
    "collapsed": false
   },
   "outputs": [
    {
     "name": "stdout",
     "output_type": "stream",
     "text": [
      "49\n",
      "3396\n"
     ]
    },
    {
     "data": {
      "image/png": "[encoded data removed]",
      "text/plain": [
       "<matplotlib.figure.Figure at 0x7fbc6458da50>"
      ]
     },
     "metadata": {},
     "output_type": "display_data"
    }
   ],
   "source": [
    "import math\n",
    "print sum(np.array(d.ix[training_rows,39]*2+10<d.ix[training_rows,59]))\n",
    "print len(training_rows)\n",
    "\n",
    "fig = plt.figure(figsize=(10, 10))\n",
    "ax = fig.add_subplot(111)\n",
    "ax.scatter(d.ix[training_rows,39],d.ix[training_rows,59],color='green')\n",
    "ax.set_xlim([0,500])\n",
    "ax.set_ylim([0,500])\n",
    "ax.plot([0,1000],[20,2020], \"r--\",label='test',color='blue')\n",
    "plt.show()\n",
    "\n"
   ]
  },
  {
   "cell_type": "code",
   "execution_count": 92,
   "metadata": {
    "collapsed": false
   },
   "outputs": [
    {
     "data": {
      "text/plain": [
       "GradientBoostingClassifier(init=None, learning_rate=0.1, loss='deviance',\n",
       "              max_depth=5, max_features=None, max_leaf_nodes=None,\n",
       "              min_samples_leaf=1, min_samples_split=1,\n",
       "              min_weight_fraction_leaf=0.0, n_estimators=200,\n",
       "              random_state=None, subsample=1.0, verbose=0,\n",
       "              warm_start=False)"
      ]
     },
     "execution_count": 92,
     "metadata": {},
     "output_type": "execute_result"
    }
   ],
   "source": [
    "# Fit regression model\n",
    "params = {'n_estimators': 200, 'max_depth': 5, 'min_samples_split': 1,\n",
    "          'learning_rate': 0.1}\n",
    "clf = GradientBoostingClassifier(**params)\n",
    "\n",
    "labels=y_train>X_train.ix[:,39]\n",
    "clf.fit(X_train, labels)"
   ]
  },
  {
   "cell_type": "code",
   "execution_count": 93,
   "metadata": {
    "collapsed": false
   },
   "outputs": [
    {
     "name": "stdout",
     "output_type": "stream",
     "text": [
      "P,R,F1,a,b = 0.49,0.15,0.23\n"
     ]
    },
    {
     "data": {
      "text/plain": [
       "1124"
      ]
     },
     "execution_count": 93,
     "metadata": {},
     "output_type": "execute_result"
    }
   ],
   "source": [
    "labels=y_test>X_test.ix[:,39]\n",
    "y_pred=clf.predict(X_test)\n",
    "y_true=labels\n",
    "\n",
    "true_pos=(y_pred==1)&(y_true==1)\n",
    "true_neg=(y_pred==0)&(y_true==1)\n",
    "false_pos=(y_pred==1)&(y_true==0)\n",
    "false_neg=(y_pred==0)&(y_true==0)\n",
    "\n",
    "num_true_pos=0\n",
    "for i in true_pos:\n",
    "    if i:\n",
    "        num_true_pos+=1\n",
    "num_true_neg=0\n",
    "for i in true_neg:\n",
    "    if i:\n",
    "        num_true_neg+=1\n",
    "num_false_pos=0\n",
    "for i in false_pos:\n",
    "    if i:\n",
    "        num_false_pos+=1\n",
    "num_false_neg=0\n",
    "for i in false_neg:\n",
    "    if i:\n",
    "        num_false_neg+=1\n",
    "\n",
    "#print \"%d %d %d %d\" % (num_true_pos, num_true_neg, num_false_pos, num_false_neg)\n",
    "precision=(float(num_true_pos)/(num_true_pos+num_false_pos))\n",
    "recall=(float(num_true_pos)/(num_true_pos+num_false_neg))\n",
    "F1 = 2*precision*recall/(precision+recall)\n",
    "print \"P,R,F1,a,b = %.2f,%.2f,%.2f\" % (precision, recall, F1)\n",
    "\n",
    "ctr=0\n",
    "label=y_train>X_train.ix[:,39]\n",
    "for i in label:\n",
    "    if i:\n",
    "        ctr+=1\n",
    "ctr"
   ]
  },
  {
   "cell_type": "code",
   "execution_count": 84,
   "metadata": {
    "collapsed": false
   },
   "outputs": [
    {
     "data": {
      "text/plain": [
       "array([False, False,  True, ..., False,  True, False], dtype=bool)"
      ]
     },
     "execution_count": 84,
     "metadata": {},
     "output_type": "execute_result"
    }
   ],
   "source": [
    "y_pred"
   ]
  },
  {
   "cell_type": "code",
   "execution_count": null,
   "metadata": {
    "collapsed": true
   },
   "outputs": [],
   "source": []
  }
 ],
 "metadata": {
  "kernelspec": {
   "display_name": "Python 2",
   "language": "python",
   "name": "python2"
  },
  "language_info": {
   "codemirror_mode": {
    "name": "ipython",
    "version": 2
   },
   "file_extension": ".py",
   "mimetype": "text/x-python",
   "name": "python",
   "nbconvert_exporter": "python",
   "pygments_lexer": "ipython2",
   "version": "2.7.10"
  }
 },
 "nbformat": 4,
 "nbformat_minor": 0
}
